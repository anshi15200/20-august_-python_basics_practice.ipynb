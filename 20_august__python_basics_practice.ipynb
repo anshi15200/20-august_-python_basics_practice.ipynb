{
  "nbformat": 4,
  "nbformat_minor": 0,
  "metadata": {
    "colab": {
      "provenance": [],
      "toc_visible": true
    },
    "kernelspec": {
      "name": "python3",
      "display_name": "Python 3"
    },
    "language_info": {
      "name": "python"
    }
  },
  "cells": [
    {
      "cell_type": "markdown",
      "source": [
        "#TOPIC: String Based Assignment Problem"
      ],
      "metadata": {
        "id": "OkIiZkGraiPy"
      }
    },
    {
      "cell_type": "markdown",
      "source": [
        "1. Write a program to reverse a string."
      ],
      "metadata": {
        "id": "MzmIN1Rbb8sK"
      }
    },
    {
      "cell_type": "code",
      "source": [
        "#define a string\n",
        "a=\"morning\"\n",
        "#to reverse a string\n",
        "a[::-1]\n",
        "#print the reverse string\n",
        "print(\"the reverse for the given string is\",a[::-1])"
      ],
      "metadata": {
        "colab": {
          "base_uri": "https://localhost:8080/"
        },
        "id": "oo0m3vuvcBnx",
        "outputId": "f41732d7-8c83-409e-f496-a1a59dc80352"
      },
      "execution_count": null,
      "outputs": [
        {
          "output_type": "stream",
          "name": "stdout",
          "text": [
            "the reverse for the given string is gninrom\n"
          ]
        }
      ]
    },
    {
      "cell_type": "code",
      "source": [],
      "metadata": {
        "id": "cSsKs0-icqXa"
      },
      "execution_count": null,
      "outputs": []
    },
    {
      "cell_type": "markdown",
      "source": [
        "2. Check if a string is a palindrome.\n"
      ],
      "metadata": {
        "id": "NNYdkuIhc3RM"
      }
    },
    {
      "cell_type": "code",
      "source": [
        "# get a string from the user\n",
        "string=input(\"enter a string\")\n",
        "\n",
        " # Remove spaces and convert to lowercase\n",
        "clean_string = string.replace(\" \", \"\").lower()\n",
        "\n",
        "#check if clean string is equal to string\n",
        "if clean_string == clean_string[::-1]:\n",
        "    print(\"The string is a palindrome.\")\n",
        "else:\n",
        "    print(\"The string is not a palindrome.\")\n"
      ],
      "metadata": {
        "colab": {
          "base_uri": "https://localhost:8080/"
        },
        "id": "D5nGezjac6Qv",
        "outputId": "81520ce3-a284-454d-e768-d591f327d8af"
      },
      "execution_count": null,
      "outputs": [
        {
          "output_type": "stream",
          "name": "stdout",
          "text": [
            "enter a stringtoday is sunday\n",
            "The string is not a palindrome.\n"
          ]
        }
      ]
    },
    {
      "cell_type": "markdown",
      "source": [
        "3. Convert a string to uppercase"
      ],
      "metadata": {
        "id": "Kbv1H6KFjOl0"
      }
    },
    {
      "cell_type": "code",
      "source": [
        "#give a string\n",
        "a2=\"sunday\"\n",
        "\n",
        "#convert to uppercase\n",
        "a2.upper()"
      ],
      "metadata": {
        "id": "xpOcASG4jWbW",
        "colab": {
          "base_uri": "https://localhost:8080/",
          "height": 36
        },
        "outputId": "e0e20575-0d44-447f-c8f9-702fc0f26f61"
      },
      "execution_count": null,
      "outputs": [
        {
          "output_type": "execute_result",
          "data": {
            "text/plain": [
              "'SUNDAY'"
            ],
            "application/vnd.google.colaboratory.intrinsic+json": {
              "type": "string"
            }
          },
          "metadata": {},
          "execution_count": 1
        }
      ]
    },
    {
      "cell_type": "markdown",
      "source": [
        "4. Convert a string to lowercase.\n",
        "\n",
        "\n"
      ],
      "metadata": {
        "id": "B-XchgnakKI2"
      }
    },
    {
      "cell_type": "code",
      "source": [
        "#give a string\n",
        "a3=\"MONDAY\"\n",
        "\n",
        "#convert to lowercase\n",
        "a3.lower()"
      ],
      "metadata": {
        "id": "2vHg-hbnkD3U",
        "colab": {
          "base_uri": "https://localhost:8080/",
          "height": 36
        },
        "outputId": "3755d767-373d-41ee-88c0-0b3df101066b"
      },
      "execution_count": null,
      "outputs": [
        {
          "output_type": "execute_result",
          "data": {
            "text/plain": [
              "'monday'"
            ],
            "application/vnd.google.colaboratory.intrinsic+json": {
              "type": "string"
            }
          },
          "metadata": {},
          "execution_count": 2
        }
      ]
    },
    {
      "cell_type": "markdown",
      "source": [
        "5. Count the number of vowels in a string"
      ],
      "metadata": {
        "id": "Gl5-t-EWkmYT"
      }
    },
    {
      "cell_type": "code",
      "source": [
        "#get a string from the user\n",
        "a4=\"Good Day\"\n",
        "\n",
        "# define vowels\n",
        "vowels=\"aeiouAEIOU\"\n",
        "\n",
        "#count vowels in a string\n",
        "count=sum(a4.count(vowel) for vowel in vowels)\n",
        "\n",
        "#print the number of vowels\n",
        "print(count)"
      ],
      "metadata": {
        "id": "_QPK8YsnknOw",
        "colab": {
          "base_uri": "https://localhost:8080/"
        },
        "outputId": "a6484dbc-d607-43f2-9eec-536f38834d19"
      },
      "execution_count": null,
      "outputs": [
        {
          "output_type": "stream",
          "name": "stdout",
          "text": [
            "3\n"
          ]
        }
      ]
    },
    {
      "cell_type": "markdown",
      "source": [
        "6. Count the number of consonants in a string"
      ],
      "metadata": {
        "id": "WT-2D_XnmRJx"
      }
    },
    {
      "cell_type": "code",
      "source": [
        "#get a string from the user\n",
        "a4=\"good afternoon\"\n",
        "\n",
        "# define consonants\n",
        "consonants=\"bcdfghjklmnpqrstvwxyz\"\n",
        "\n",
        "#count consonants in a string\n",
        "count=sum(a4.count(consonant) for consonant in consonants)\n",
        "\n",
        "#print the number of consonants\n",
        "print(count)"
      ],
      "metadata": {
        "id": "8-tSH4vzlxyv",
        "colab": {
          "base_uri": "https://localhost:8080/"
        },
        "outputId": "4e49d910-3ed1-4d28-e026-9d2837bad8b3"
      },
      "execution_count": null,
      "outputs": [
        {
          "output_type": "stream",
          "name": "stdout",
          "text": [
            "7\n"
          ]
        }
      ]
    },
    {
      "cell_type": "markdown",
      "source": [
        "7. Remove all whitespaces from a string.\n"
      ],
      "metadata": {
        "id": "20CNvgu0n5GM"
      }
    },
    {
      "cell_type": "code",
      "source": [
        "#get a string\n",
        "a5=\"practice daily\"\n",
        "\n",
        "\n",
        "#remove spaces\n",
        "a6=a5.replace(\" \", \"\")\n",
        "\n",
        "# print string without spaces\n",
        "print(a6)"
      ],
      "metadata": {
        "id": "swDfWRU6n6R6",
        "colab": {
          "base_uri": "https://localhost:8080/"
        },
        "outputId": "70bc22d1-3c3b-4bdc-835f-50af830afbc0"
      },
      "execution_count": null,
      "outputs": [
        {
          "output_type": "stream",
          "name": "stdout",
          "text": [
            "practicedaily\n"
          ]
        }
      ]
    },
    {
      "cell_type": "markdown",
      "source": [
        "8. Find the length of a string without using the `len()` function"
      ],
      "metadata": {
        "id": "8TiR2dQArZaS"
      }
    },
    {
      "cell_type": "code",
      "source": [
        "# define a string from user\n",
        "s=input(\"enter a string\")\n",
        "# define initial length of the string\n",
        "length=0\n",
        "# use for loop to find length\n",
        "for char in s:\n",
        "  length+=1\n",
        "# print the length of the string\n",
        "print(\"the length of the string is\",length)\n"
      ],
      "metadata": {
        "id": "SEgQAcr4rdS2",
        "colab": {
          "base_uri": "https://localhost:8080/"
        },
        "outputId": "f87c48d1-24ac-4547-ff5e-dda73bb10f8a"
      },
      "execution_count": null,
      "outputs": [
        {
          "output_type": "stream",
          "name": "stdout",
          "text": [
            "enter a stringthis is the string \n",
            "the length of the string is 19\n"
          ]
        }
      ]
    },
    {
      "cell_type": "markdown",
      "source": [
        "9. Check if a string contains a specific word."
      ],
      "metadata": {
        "id": "Y0VQY5fgzuye"
      }
    },
    {
      "cell_type": "code",
      "source": [
        "# take a string from user\n",
        "a=input(\"enter a string\")\n",
        "\n",
        "# define word to check in string\n",
        "b=input(\"enter a word\")\n",
        "\n",
        "#define condition\n",
        "if b in a:\n",
        "  print(\"string contains the word\",b)\n",
        "else:\n",
        "  print(\"string does not contain the word\",b)"
      ],
      "metadata": {
        "colab": {
          "base_uri": "https://localhost:8080/"
        },
        "id": "N7yjOUSUz7fg",
        "outputId": "f8978d17-1223-489d-81dc-cb6ffea2c568"
      },
      "execution_count": null,
      "outputs": [
        {
          "output_type": "stream",
          "name": "stdout",
          "text": [
            "enter a stringthis is a python course\n",
            "enter a wordt\n",
            "string contains the word t\n"
          ]
        }
      ]
    },
    {
      "cell_type": "markdown",
      "source": [
        "10. Replace a word in a string with another word."
      ],
      "metadata": {
        "id": "yd8z5eHQU2Zp"
      }
    },
    {
      "cell_type": "code",
      "source": [
        "#getting a string\n",
        "a6=\"today is holiday\"\n",
        "\n",
        "#replace a word with another word\n",
        "a7=a6.replace('is','are')\n",
        "\n",
        "#print the replaced string\n",
        "print(a7)"
      ],
      "metadata": {
        "id": "TAzdf-mlU3Pt",
        "colab": {
          "base_uri": "https://localhost:8080/"
        },
        "outputId": "6984446b-e396-4f6e-b4bf-f6eec0fbbb94"
      },
      "execution_count": null,
      "outputs": [
        {
          "output_type": "stream",
          "name": "stdout",
          "text": [
            "today are holiday\n"
          ]
        }
      ]
    },
    {
      "cell_type": "markdown",
      "source": [
        "11. Count the occurrences of a word in a string."
      ],
      "metadata": {
        "id": "WEyhQmpkXFVu"
      }
    },
    {
      "cell_type": "code",
      "source": [
        "#writing a string\n",
        "a8=\"impossible\"\n",
        "\n",
        "#using count function\n",
        "a8.count(\"s\")\n",
        "\n"
      ],
      "metadata": {
        "id": "meq4COWxXGRz",
        "colab": {
          "base_uri": "https://localhost:8080/"
        },
        "outputId": "28d874bd-9b53-482f-8d3b-1a2c59e1df4f"
      },
      "execution_count": null,
      "outputs": [
        {
          "output_type": "execute_result",
          "data": {
            "text/plain": [
              "2"
            ]
          },
          "metadata": {},
          "execution_count": 6
        }
      ]
    },
    {
      "cell_type": "markdown",
      "source": [
        "12. Find the first occurrence of a word in a string"
      ],
      "metadata": {
        "id": "BcVqQy6k2SUy"
      }
    },
    {
      "cell_type": "code",
      "source": [
        "# Get a string from the user\n",
        "string = input(\"Enter a string\")\n",
        "\n",
        "# Get the word to search for\n",
        "word = input(\"Enter the word\")\n",
        "\n",
        "# Find the first occurrence of the word in the string\n",
        "occurence=string.index(word)\n",
        "print(occurence)\n"
      ],
      "metadata": {
        "colab": {
          "base_uri": "https://localhost:8080/"
        },
        "id": "CSlStWW52WQ_",
        "outputId": "3c70cff4-3f7d-4c10-b7a8-b3fd358c8786"
      },
      "execution_count": null,
      "outputs": [
        {
          "output_type": "stream",
          "name": "stdout",
          "text": [
            "Enter a stringthis is new course\n",
            "Enter the words\n",
            "3\n"
          ]
        }
      ]
    },
    {
      "cell_type": "markdown",
      "source": [
        "13. Find the last occurrence of a word in a string."
      ],
      "metadata": {
        "id": "vGscnt4v6yQy"
      }
    },
    {
      "cell_type": "code",
      "source": [
        "# Get a string from the user\n",
        "string = input(\"Enter a string\")\n",
        "\n",
        "# Get the word to search for\n",
        "word = input(\"Enter the word\")\n",
        "\n",
        "# Find the first occurrence of the word in the string\n",
        "occurence=string.rfind(word)\n",
        "print(occurence)\n"
      ],
      "metadata": {
        "colab": {
          "base_uri": "https://localhost:8080/"
        },
        "id": "ABDIbcHyh5EF",
        "outputId": "3d001787-8cb8-4b2b-89bf-f6347044a65f"
      },
      "execution_count": null,
      "outputs": [
        {
          "output_type": "stream",
          "name": "stdout",
          "text": [
            "Enter a stringthis is a string\n",
            "Enter the words\n",
            "10\n"
          ]
        }
      ]
    },
    {
      "cell_type": "markdown",
      "source": [
        "14. Split a string into a list of words.\n"
      ],
      "metadata": {
        "id": "JCBDQCSIYX1_"
      }
    },
    {
      "cell_type": "code",
      "source": [
        "#writing a string\n",
        "a9=\"data science is the best course\"\n",
        "\n",
        "#spliting the string\n",
        "a9.split()\n",
        "\n",
        "#print the splited string\n",
        "print(a9.split())"
      ],
      "metadata": {
        "id": "Btfm5YPYYbPT",
        "colab": {
          "base_uri": "https://localhost:8080/"
        },
        "outputId": "00d81cfe-266f-4437-ba99-68a2ebafc7fb"
      },
      "execution_count": null,
      "outputs": [
        {
          "output_type": "stream",
          "name": "stdout",
          "text": [
            "['data', 'science', 'is', 'the', 'best', 'course']\n"
          ]
        }
      ]
    },
    {
      "cell_type": "markdown",
      "source": [
        "15. Join a list of words into a string.\n"
      ],
      "metadata": {
        "id": "WWVWzDqb8gUs"
      }
    },
    {
      "cell_type": "code",
      "source": [
        "#define a list of words\n",
        "l=[\"this\",\"is\",\"a\",\"string\"]\n",
        "string=\"\"\n",
        "#join the string\n",
        "for char in l:\n",
        "  string += char+\" \"\n",
        "print(string)"
      ],
      "metadata": {
        "id": "pUpDK05r8i2X",
        "colab": {
          "base_uri": "https://localhost:8080/"
        },
        "outputId": "189e32b8-0707-4be2-b510-00676264256e"
      },
      "execution_count": null,
      "outputs": [
        {
          "output_type": "stream",
          "name": "stdout",
          "text": [
            "this is a string \n"
          ]
        }
      ]
    },
    {
      "cell_type": "markdown",
      "source": [
        "16. Convert a string where words are separated by spaces to one where words\n",
        "are separated by underscores."
      ],
      "metadata": {
        "id": "zQeizyzmZci1"
      }
    },
    {
      "cell_type": "code",
      "source": [
        "#get a string from the user\n",
        "b=\"this is a string\"\n",
        "\n",
        "#convert the spaces to underscore\n",
        "b1=b.replace(\" \", \"_\")\n",
        "\n",
        "#print the new string\n",
        "print(b1)\n"
      ],
      "metadata": {
        "id": "3EIcz8iZZdbg",
        "colab": {
          "base_uri": "https://localhost:8080/"
        },
        "outputId": "483bbcec-7ab8-4d08-fed6-c2dde5064915"
      },
      "execution_count": null,
      "outputs": [
        {
          "output_type": "stream",
          "name": "stdout",
          "text": [
            "this_is_a_string\n"
          ]
        }
      ]
    },
    {
      "cell_type": "markdown",
      "source": [
        "17. Check if a string starts with a specific word or phrase"
      ],
      "metadata": {
        "id": "RsX9u_ll_ALW"
      }
    },
    {
      "cell_type": "code",
      "source": [
        "# get a string from user\n",
        "s2=input(\"enter a string\")\n",
        "word=input(\"enter a word\")\n",
        "if s2[0]==word:\n",
        "  print(\"string starts with\",word)\n",
        "else:\n",
        "  print(\"string does not starts with the word\",word)"
      ],
      "metadata": {
        "colab": {
          "base_uri": "https://localhost:8080/"
        },
        "id": "-FZ7F-Y3_myP",
        "outputId": "3d756e12-76b8-4009-e0b1-44f008d8d1b9"
      },
      "execution_count": null,
      "outputs": [
        {
          "output_type": "stream",
          "name": "stdout",
          "text": [
            "enter a stringthis is not a list\n",
            "enter a wordlist\n",
            "string does not starts with the word list\n"
          ]
        }
      ]
    },
    {
      "cell_type": "markdown",
      "source": [
        "18. Check if a string ends with a specific word or phrase."
      ],
      "metadata": {
        "id": "d7o7iH9hmF2v"
      }
    },
    {
      "cell_type": "code",
      "source": [
        "# get a string from the user\n",
        "s=input(\"enter a string\")\n",
        "b=input(\"enter a word\")\n",
        "if s[-1]==b:\n",
        "  print(\"string ends with\",b)\n",
        "else:\n",
        "  print(\"string does not end with\",b)\n"
      ],
      "metadata": {
        "colab": {
          "base_uri": "https://localhost:8080/"
        },
        "id": "UVWC3JEgmHlJ",
        "outputId": "79c5f2da-1232-406f-a446-330b9ccf3adf"
      },
      "execution_count": null,
      "outputs": [
        {
          "output_type": "stream",
          "name": "stdout",
          "text": [
            "enter a stringthis is a string\n",
            "enter a wordg\n",
            "string ends with g\n"
          ]
        }
      ]
    },
    {
      "cell_type": "markdown",
      "source": [
        "19. Convert a string to title case"
      ],
      "metadata": {
        "id": "3fdtq31OabLa"
      }
    },
    {
      "cell_type": "code",
      "source": [
        "#define a string\n",
        "b2=\"hello, everybody\"\n",
        "\n",
        "#converts to title case\n",
        "b2.title()\n"
      ],
      "metadata": {
        "id": "vyCvSvuQab7T",
        "colab": {
          "base_uri": "https://localhost:8080/",
          "height": 36
        },
        "outputId": "9da07811-d0e6-4fa4-9e86-d58b040842f5"
      },
      "execution_count": null,
      "outputs": [
        {
          "output_type": "execute_result",
          "data": {
            "text/plain": [
              "'Hello, Everybody'"
            ],
            "application/vnd.google.colaboratory.intrinsic+json": {
              "type": "string"
            }
          },
          "metadata": {},
          "execution_count": 22
        }
      ]
    },
    {
      "cell_type": "markdown",
      "source": [
        "20. Find the longest word in a string"
      ],
      "metadata": {
        "id": "TsEDFeKK7TNG"
      }
    },
    {
      "cell_type": "code",
      "source": [
        "# get a string from the user\n",
        "s2=input(\"enter a string\")\n",
        "# find the longest word\n",
        "longest_word=max(s2.split(),key=len)\n",
        "print(longest_word)"
      ],
      "metadata": {
        "id": "oW47XVoH7YVa",
        "colab": {
          "base_uri": "https://localhost:8080/"
        },
        "outputId": "204498ca-21de-488e-e47f-1d18cb947cf7"
      },
      "execution_count": null,
      "outputs": [
        {
          "output_type": "stream",
          "name": "stdout",
          "text": [
            "enter a stringthis is a string containing words\n",
            "containing\n"
          ]
        }
      ]
    },
    {
      "cell_type": "markdown",
      "source": [
        "21. Find the shortest word in a string.\n"
      ],
      "metadata": {
        "id": "veyLbEU6iTYe"
      }
    },
    {
      "cell_type": "code",
      "source": [
        "# get a string from the user\n",
        "s2=input(\"enter a string\")\n",
        "# find the longest word\n",
        "longest_word=min(s2.split(),key=len)\n",
        "print(longest_word)"
      ],
      "metadata": {
        "colab": {
          "base_uri": "https://localhost:8080/"
        },
        "id": "hfkuxcQDjhsw",
        "outputId": "18e957a6-2b41-480a-dab5-f9e3f95be6c7"
      },
      "execution_count": null,
      "outputs": [
        {
          "output_type": "stream",
          "name": "stdout",
          "text": [
            "enter a stringgood morning everyone\n",
            "good\n"
          ]
        }
      ]
    },
    {
      "cell_type": "markdown",
      "source": [
        "22. Reverse the order of words in a string"
      ],
      "metadata": {
        "id": "dLmc1Eh8dCjR"
      }
    },
    {
      "cell_type": "code",
      "source": [
        "#define a string\n",
        "b3=\"this is the final result\"\n",
        "#reversing the order\n",
        "b3[::-1]\n",
        "#print the reverse order of string\n",
        "print(b3[::-1])"
      ],
      "metadata": {
        "id": "ugW_civEdDde",
        "colab": {
          "base_uri": "https://localhost:8080/"
        },
        "outputId": "16ea7cd2-b23f-4b01-ecad-48bbae09d720"
      },
      "execution_count": null,
      "outputs": [
        {
          "output_type": "stream",
          "name": "stdout",
          "text": [
            "tluser lanif eht si siht\n"
          ]
        }
      ]
    },
    {
      "cell_type": "markdown",
      "source": [
        "23. Check if a string is alphanumeric.\n"
      ],
      "metadata": {
        "id": "yUXB-7RyA7vm"
      }
    },
    {
      "cell_type": "code",
      "source": [
        "#define a string\n",
        "b4=\"this is the string\"\n",
        "\n",
        "#print whether string is alphanum or not\n",
        "print(b4.isalnum())"
      ],
      "metadata": {
        "id": "0glLaAEcBAQp",
        "colab": {
          "base_uri": "https://localhost:8080/"
        },
        "outputId": "c844a2ab-edaa-4683-a8b0-662943d6c586"
      },
      "execution_count": null,
      "outputs": [
        {
          "output_type": "stream",
          "name": "stdout",
          "text": [
            "False\n"
          ]
        }
      ]
    },
    {
      "cell_type": "markdown",
      "source": [
        "24. Extract all digits from a string.\n",
        "\n"
      ],
      "metadata": {
        "id": "nXHqXOMTCOAD"
      }
    },
    {
      "cell_type": "code",
      "source": [
        "b5=\"i am 22 years old\"\n",
        "digits=[]\n",
        "for char in b5:\n",
        "  if char.isdigit():\n",
        "    digits.append(int(char))\n",
        "print(\"digits in string are\",digits)\n",
        "\n",
        "\n"
      ],
      "metadata": {
        "id": "oJX2yfihCwt4",
        "colab": {
          "base_uri": "https://localhost:8080/"
        },
        "outputId": "0eb7af00-c403-4c8c-877b-e2a6207a32e1"
      },
      "execution_count": null,
      "outputs": [
        {
          "output_type": "stream",
          "name": "stdout",
          "text": [
            "digits in string are [2, 2]\n"
          ]
        }
      ]
    },
    {
      "cell_type": "markdown",
      "source": [
        "25. Extract all alphabets from a string.\n"
      ],
      "metadata": {
        "id": "tjRntHlFF7sM"
      }
    },
    {
      "cell_type": "code",
      "source": [
        "# Get a string from the user\n",
        "string = input(\"Enter a string: \")\n",
        "\n",
        "# Initialize an empty string to store the extracted alphabets\n",
        "alphabets = \"\"\n",
        "\n",
        "# Iterate through the characters in the string\n",
        "for char in string:\n",
        "    if char.isalpha():\n",
        "        alphabets += char\n",
        "\n",
        "# Print the extracted alphabets\n",
        "print(\"Extracted alphabets:\", alphabets)\n"
      ],
      "metadata": {
        "colab": {
          "base_uri": "https://localhost:8080/"
        },
        "id": "G3aWoGFXF-TN",
        "outputId": "7d677a0c-9d9a-4596-8f7b-2c5e59cc807d"
      },
      "execution_count": null,
      "outputs": [
        {
          "output_type": "stream",
          "name": "stdout",
          "text": [
            "Enter a string: this string contains alphabets\n",
            "Extracted alphabets: thisstringcontainsalphabets\n"
          ]
        }
      ]
    },
    {
      "cell_type": "markdown",
      "source": [
        "26. Count the number of uppercase letters in a string."
      ],
      "metadata": {
        "id": "9lmjctG6rSCL"
      }
    },
    {
      "cell_type": "code",
      "source": [
        "# get a string from user\n",
        "s=input(\"enter a string\")\n",
        "count=0\n",
        "for char in s:\n",
        "  if char.isupper():\n",
        "    count +=1\n",
        "print(\"the no. of uppercase letters in  the string is\",count)\n"
      ],
      "metadata": {
        "colab": {
          "base_uri": "https://localhost:8080/"
        },
        "id": "sWCFY1qgrTya",
        "outputId": "344ab0ff-ef8f-4962-da16-ebb74ff07b3d"
      },
      "execution_count": null,
      "outputs": [
        {
          "output_type": "stream",
          "name": "stdout",
          "text": [
            "enter a stringBUGIOojoi\n",
            "the no. of uppercase letters in  the string is 5\n"
          ]
        }
      ]
    },
    {
      "cell_type": "markdown",
      "source": [
        "27. Count the number of lowercase letters in a string"
      ],
      "metadata": {
        "id": "p52gRF48zEWV"
      }
    },
    {
      "cell_type": "code",
      "source": [
        "# get a string from user\n",
        "s=input(\"enter a string\")\n",
        "count=0\n",
        "for char in s:\n",
        "  if char.islower():\n",
        "    count +=1\n",
        "print(\"the no. of lowercase letters in  the string is\",count)\n"
      ],
      "metadata": {
        "colab": {
          "base_uri": "https://localhost:8080/"
        },
        "id": "WUWsZWS30ARy",
        "outputId": "2329c92a-79e2-45c6-a5d5-98d3cc514d30"
      },
      "execution_count": null,
      "outputs": [
        {
          "output_type": "stream",
          "name": "stdout",
          "text": [
            "enter a stringnxdcoref\n",
            "the no. of lowercase letters in  the string is 8\n"
          ]
        }
      ]
    },
    {
      "cell_type": "markdown",
      "source": [
        "28. Swap the case of each character in a string."
      ],
      "metadata": {
        "id": "socbQyAy-_7p"
      }
    },
    {
      "cell_type": "code",
      "source": [
        "# get a string from the user\n",
        "a=input(\"enter a string\")\n",
        "#define a empty string\n",
        "b=\"\"\n",
        "#define a function to swap case of the string\n",
        "for char in a:\n",
        "  if char.isupper():\n",
        "    b += char.lower()\n",
        "  else:\n",
        "    b+=char.upper()\n",
        "print(b)\n"
      ],
      "metadata": {
        "colab": {
          "base_uri": "https://localhost:8080/"
        },
        "id": "aVDwEjav_CAc",
        "outputId": "0942e1ae-b6c4-4ccc-be35-02f6d949fd0b"
      },
      "execution_count": null,
      "outputs": [
        {
          "output_type": "stream",
          "name": "stdout",
          "text": [
            "enter a stringHELLO everybody\n",
            "hello EVERYBODY\n"
          ]
        }
      ]
    },
    {
      "cell_type": "markdown",
      "source": [
        "29. Remove a specific word from a string."
      ],
      "metadata": {
        "id": "yag4ZX4bD-hS"
      }
    },
    {
      "cell_type": "code",
      "source": [
        "# get a string from the user\n",
        "s=input(\"enter a string\")\n",
        "\n",
        "#define the word you want to remove\n",
        "a= input(\"enter a word to remove\")\n",
        "\n",
        "#use replace function\n",
        "s1=s.replace(a,\"\")\n",
        "\n",
        "#print the final string\n",
        "print(\"the string is\",s1)"
      ],
      "metadata": {
        "colab": {
          "base_uri": "https://localhost:8080/"
        },
        "id": "8U3dsMkIEOSe",
        "outputId": "18ad47b3-4120-4692-b6f2-a7962bad211a"
      },
      "execution_count": null,
      "outputs": [
        {
          "output_type": "stream",
          "name": "stdout",
          "text": [
            "enter a stringanshika\n",
            "enter a word to removeh\n",
            "the string is ansika\n"
          ]
        }
      ]
    },
    {
      "cell_type": "markdown",
      "source": [
        "30. Check if a string is a valid email address"
      ],
      "metadata": {
        "id": "fC2ccui-FhRd"
      }
    },
    {
      "cell_type": "code",
      "source": [
        "# get a string from user\n",
        "email=input(\"enter a email address\")\n",
        "\n",
        "if len(email)>=8 :\n",
        "  char=\"@\"\n",
        "  if char in email:\n",
        "      print(\"email address is valid\")\n",
        "  else:\n",
        "     print(\"email address is  not valid\")\n",
        "else :\n",
        "  print(\"email should contain 8 characters\")\n",
        "\n"
      ],
      "metadata": {
        "colab": {
          "base_uri": "https://localhost:8080/"
        },
        "id": "eM8kZcEAFi8h",
        "outputId": "fc67d113-81e0-4b99-d7cd-d64ffd9aee54"
      },
      "execution_count": null,
      "outputs": [
        {
          "output_type": "stream",
          "name": "stdout",
          "text": [
            "enter a email addressanshi@1234\n",
            "email address is valid\n"
          ]
        }
      ]
    },
    {
      "cell_type": "markdown",
      "source": [
        "31. Extract the username from an email address string.\n",
        "\n"
      ],
      "metadata": {
        "id": "jRQF6f3vKfQb"
      }
    },
    {
      "cell_type": "code",
      "source": [
        "# get a email from user\n",
        "email=input(\"enter a email\")\n",
        "username=email.split('@')[0]\n",
        "print(username)"
      ],
      "metadata": {
        "colab": {
          "base_uri": "https://localhost:8080/"
        },
        "id": "hKurpzVtKiPZ",
        "outputId": "525b2462-c4f2-4ed6-9b1f-07ec54b03fd4"
      },
      "execution_count": null,
      "outputs": [
        {
          "output_type": "stream",
          "name": "stdout",
          "text": [
            "enter a emailanshi1234@gmail.com\n",
            "anshi1234\n"
          ]
        }
      ]
    },
    {
      "cell_type": "markdown",
      "source": [
        "32. Extract the domain name from an email address string."
      ],
      "metadata": {
        "id": "uGBgpnMjRKB-"
      }
    },
    {
      "cell_type": "code",
      "source": [
        "# get a email from user\n",
        "email=input(\"enter a email\")\n",
        "domain=email.split('@')[1]\n",
        "print(domain)"
      ],
      "metadata": {
        "colab": {
          "base_uri": "https://localhost:8080/"
        },
        "id": "Mo1XsPoTUHTJ",
        "outputId": "c053ac0d-5376-4ac1-dee0-63328a705063"
      },
      "execution_count": null,
      "outputs": [
        {
          "output_type": "stream",
          "name": "stdout",
          "text": [
            "enter a emailanshi@gmail.com\n",
            "gmail.com\n"
          ]
        }
      ]
    },
    {
      "cell_type": "markdown",
      "source": [
        "33. Replace multiple spaces in a string with a single space."
      ],
      "metadata": {
        "id": "w6uKHOCaXKDe"
      }
    },
    {
      "cell_type": "code",
      "source": [
        "# get a string from the user\n",
        "s=input(\"enter a string\")\n",
        "s.replace(\"   \",\" \")"
      ],
      "metadata": {
        "colab": {
          "base_uri": "https://localhost:8080/",
          "height": 53
        },
        "id": "TrpJLo_sXxnI",
        "outputId": "764e7a88-c532-4ded-83de-54d9d80ad7bb"
      },
      "execution_count": null,
      "outputs": [
        {
          "name": "stdout",
          "output_type": "stream",
          "text": [
            "enter   a   stringthis   is   a   string\n"
          ]
        },
        {
          "output_type": "execute_result",
          "data": {
            "text/plain": [
              "'this is a string'"
            ],
            "application/vnd.google.colaboratory.intrinsic+json": {
              "type": "string"
            }
          },
          "metadata": {},
          "execution_count": 31
        }
      ]
    },
    {
      "cell_type": "markdown",
      "source": [
        "34. Check if a string is a valid URL."
      ],
      "metadata": {
        "id": "sM3HdMdrZuJI"
      }
    },
    {
      "cell_type": "code",
      "source": [
        "from urllib.parse import urlparse\n",
        "\n",
        "def is_valid_url(url):\n",
        "    try:\n",
        "        result = urlparse(url)\n",
        "        return all([result.scheme, result.netloc])  # Check if both scheme and netloc are present\n",
        "    except ValueError:\n",
        "        return False\n",
        "\n",
        "# Example URLs\n",
        "url1 = \"https://www.example.com\"\n",
        "url2 = \"invalid-url\"\n",
        "result1 = is_valid_url(url1)\n",
        "result2 = is_valid_url(url2)\n",
        "print(result1)  # Should print True\n",
        "print(result2)  # Should print False"
      ],
      "metadata": {
        "colab": {
          "base_uri": "https://localhost:8080/"
        },
        "id": "lO5U9Yxusf7V",
        "outputId": "87b15521-d0b0-4240-e852-630703ae5c98"
      },
      "execution_count": null,
      "outputs": [
        {
          "output_type": "stream",
          "name": "stdout",
          "text": [
            "True\n",
            "False\n"
          ]
        }
      ]
    },
    {
      "cell_type": "markdown",
      "source": [
        "35. Extract the protocol (http or https) from a URL string.\n"
      ],
      "metadata": {
        "id": "-hxDe5b7bAtA"
      }
    },
    {
      "cell_type": "code",
      "source": [
        "def extract_protocol(url):\n",
        "    # Find the index of the first occurrence of \"://\"\n",
        "    protocol_end = url.find(\"://\")\n",
        "\n",
        "    if protocol_end != -1:\n",
        "        # Extract the protocol from the URL\n",
        "        protocol = url[:protocol_end]\n",
        "        return protocol\n",
        "    else:\n",
        "        return None\n",
        "# Example URL strings\n",
        "url1 = \"https://www.example.com\"\n",
        "url2 = \"http://google.com\"\n",
        "url3 = \"ftp://ftp.example.com\"\n",
        "\n",
        "# Extract protocols\n",
        "protocol1 = extract_protocol(url1)\n",
        "protocol2 = extract_protocol(url2)\n",
        "protocol3 = extract_protocol(url3)\n",
        "\n",
        "# Print extracted protocols\n",
        "print(\"Protocol 1:\", protocol1)\n",
        "print(\"Protocol 2:\", protocol2)\n",
        "print(\"Protocol 3:\", protocol3)"
      ],
      "metadata": {
        "id": "Yf_h8mPO2UwO",
        "colab": {
          "base_uri": "https://localhost:8080/"
        },
        "outputId": "7cb12394-f1c1-4c9a-c473-8dd379f5b76c"
      },
      "execution_count": null,
      "outputs": [
        {
          "output_type": "stream",
          "name": "stdout",
          "text": [
            "Protocol 1: https\n",
            "Protocol 2: http\n",
            "Protocol 3: ftp\n"
          ]
        }
      ]
    },
    {
      "cell_type": "markdown",
      "source": [
        "36. Find the frequency of each character in a string.\n"
      ],
      "metadata": {
        "id": "GOrBFM7Tv-zt"
      }
    },
    {
      "cell_type": "code",
      "source": [
        "from collections import Counter\n",
        "\n",
        "my_list = [1, 2, 3, 1, 2, 3, 4, 5, 1, 2]\n",
        "counter_result = Counter(my_list)\n",
        "\n",
        "print(counter_result)\n"
      ],
      "metadata": {
        "colab": {
          "base_uri": "https://localhost:8080/"
        },
        "id": "zboAYq-C6nUx",
        "outputId": "84c4dfb9-b101-4f8b-c6bc-186b0f3acbf2"
      },
      "execution_count": null,
      "outputs": [
        {
          "output_type": "stream",
          "name": "stdout",
          "text": [
            "Counter({1: 3, 2: 3, 3: 2, 4: 1, 5: 1})\n"
          ]
        }
      ]
    },
    {
      "cell_type": "markdown",
      "source": [
        "37. Remove all punctuation from a string"
      ],
      "metadata": {
        "id": "6xiN-QYbooOd"
      }
    },
    {
      "cell_type": "code",
      "source": [],
      "metadata": {
        "id": "N3k66d7K6w7q"
      },
      "execution_count": null,
      "outputs": []
    },
    {
      "cell_type": "markdown",
      "source": [
        "38.Check if a string contains only digits."
      ],
      "metadata": {
        "id": "Vxnh5Ys2s8sn"
      }
    },
    {
      "cell_type": "code",
      "source": [
        "#get a string from the user\n",
        "s=input(\"enter a string\")\n",
        "# check if a string contains only digits.\n",
        "if s.isdigit():\n",
        "  print(\"the string contains only digits\")\n",
        "else:\n",
        "  print(\"the string does not contain only digits\")"
      ],
      "metadata": {
        "colab": {
          "base_uri": "https://localhost:8080/"
        },
        "id": "cdIKfvMftC51",
        "outputId": "2b8ad807-f409-43fd-c5d1-f494d9a9081b"
      },
      "execution_count": null,
      "outputs": [
        {
          "output_type": "stream",
          "name": "stdout",
          "text": [
            "enter a string142536\n",
            "the string contains only digits\n"
          ]
        }
      ]
    },
    {
      "cell_type": "markdown",
      "source": [
        "39. Check if a string contains only alphabets."
      ],
      "metadata": {
        "id": "K0mSvkxgtz3k"
      }
    },
    {
      "cell_type": "code",
      "source": [
        "#get a string from the user\n",
        "s=input(\"enter a string\")\n",
        "# check if a string contains only alphabets.\n",
        "if s.isalpha():\n",
        "  print(\"the string contains only alphabets\")\n",
        "else:\n",
        "  print(\"the string does not contain only alphabets\")"
      ],
      "metadata": {
        "colab": {
          "base_uri": "https://localhost:8080/"
        },
        "id": "FT1vCpRPt1gf",
        "outputId": "6e725371-5d26-4327-f115-22d76a72e5f0"
      },
      "execution_count": null,
      "outputs": [
        {
          "output_type": "stream",
          "name": "stdout",
          "text": [
            "enter a stringanshika\n",
            "the string contains only alphabets\n"
          ]
        }
      ]
    },
    {
      "cell_type": "markdown",
      "source": [
        "40. Convert a string to a list of characters.\n"
      ],
      "metadata": {
        "id": "jmeeVkoMuGun"
      }
    },
    {
      "cell_type": "code",
      "source": [
        "# get a string from the user\n",
        "s1=input(\"enter a string\")\n",
        "l=[]\n",
        "#converting the string to the list of characters\n",
        "for char in s1:\n",
        "  l.append(char)\n",
        "print(l)\n"
      ],
      "metadata": {
        "colab": {
          "base_uri": "https://localhost:8080/"
        },
        "id": "GfeHREgIuKQD",
        "outputId": "18e4a5b5-2dfe-4a97-a2db-94e150952df0"
      },
      "execution_count": null,
      "outputs": [
        {
          "output_type": "stream",
          "name": "stdout",
          "text": [
            "enter a stringthis is a string\n",
            "['t', 'h', 'i', 's', ' ', 'i', 's', ' ', 'a', ' ', 's', 't', 'r', 'i', 'n', 'g']\n"
          ]
        }
      ]
    },
    {
      "cell_type": "markdown",
      "source": [
        "41. Check if two strings are anagrams.\n"
      ],
      "metadata": {
        "id": "BDpvbKPBAPrK"
      }
    },
    {
      "cell_type": "code",
      "source": [
        "def is_anagrams(str1,str2):\n",
        "  ## remove spaces and convert into lowercase\n",
        "  str1=str1.replace(\" \",\"\").lower()\n",
        "  str2= str2.replace(\" \",\"\").lower()\n",
        "  return sorted(str1)== sorted(str2)\n",
        "str1=\"listen\"\n",
        "str2=\"silent\"\n",
        "result=is_anagrams(str1,str2)\n",
        "print(result)\n"
      ],
      "metadata": {
        "id": "JZnoHFZAvMTF",
        "colab": {
          "base_uri": "https://localhost:8080/"
        },
        "outputId": "ebda4d2e-7dc2-4441-f8f5-6a96f7c9b43e"
      },
      "execution_count": null,
      "outputs": [
        {
          "output_type": "stream",
          "name": "stdout",
          "text": [
            "True\n"
          ]
        }
      ]
    },
    {
      "cell_type": "markdown",
      "source": [
        "42. Encode a string using a Caesar cipher"
      ],
      "metadata": {
        "id": "OiuVP1m-w53v"
      }
    },
    {
      "cell_type": "code",
      "source": [
        "# Define a function named caesar_cipher that encodes a string using a Caesar cipher.\n",
        "def caesar_cipher(text, shift):\n",
        "  \"\"\"\n",
        "  Encodes a string using a Caesar cipher.\n",
        "\n",
        "  Args:\n",
        "    text: The string to encode.\n",
        "    shift: The number of positions to shift each letter.\n",
        "\n",
        "  Returns:\n",
        "    The encoded string.\n",
        "  \"\"\"\n",
        "\n",
        "  # Initialize an empty string to store the encoded text.\n",
        "  encoded_text = \"\"\n",
        "\n",
        "  # Iterate through each character in the input text.\n",
        "  for char in text:\n",
        "    # Check if the character is alphabetic.\n",
        "    if char.isalpha():\n",
        "      # Calculate the encoded character's Unicode code point value by shifting it by the specified amount.\n",
        "      # Ensure the value wraps around within the lowercase alphabet range (a-z).\n",
        "      encoded_char = chr((ord(char) + shift - ord('a')) % 26 + ord('a'))\n",
        "    else:\n",
        "      # Keep non-alphabetic characters unchanged.\n",
        "      encoded_char = char\n",
        "\n",
        "    # Add the encoded character to the encoded text.\n",
        "    encoded_text += encoded_char\n",
        "\n",
        "  # Return the resulting encoded text.\n",
        "  return encoded_text\n",
        "\n",
        "# Define the input text and the shift value for encoding.\n",
        "text = \"Hello, world!\"\n",
        "shift = 3\n",
        "\n",
        "# Call the caesar_cipher function to encode the text using the specified shift.\n",
        "encoded_text = caesar_cipher(text, shift)\n",
        "\n",
        "# Print the encoded text.\n",
        "print(\"Encoded text:\", encoded_text)"
      ],
      "metadata": {
        "colab": {
          "base_uri": "https://localhost:8080/"
        },
        "id": "Wd5XNSFuxW1W",
        "outputId": "a989334e-c248-4283-9476-2ca0e9a6d272"
      },
      "execution_count": null,
      "outputs": [
        {
          "output_type": "stream",
          "name": "stdout",
          "text": [
            "Encoded text: ehoor, zruog!\n"
          ]
        }
      ]
    },
    {
      "cell_type": "markdown",
      "source": [
        "43. Decode a Caesar cipher encoded string.\n"
      ],
      "metadata": {
        "id": "2-3iiwEow_OF"
      }
    },
    {
      "cell_type": "code",
      "source": [
        "# Define a function to decode a string using a Caesar cipher\n",
        "def caesar_cipher_decoder(text, shift):\n",
        "    \"\"\"\n",
        "    Decodes a string using a Caesar cipher.\n",
        "\n",
        "    Args:\n",
        "        text: The string to decode.\n",
        "        shift: The number of positions to shift each letter.\n",
        "\n",
        "    Returns:\n",
        "        The decoded string.\n",
        "    \"\"\"\n",
        "\n",
        "    # Initialize an empty string to store the decoded text\n",
        "    decoded_text = \"\"\n",
        "\n",
        "    # Loop through each character in the input text\n",
        "    for char in text:\n",
        "        # Check if the character is an alphabetic character\n",
        "        if char.isalpha():\n",
        "            # Calculate the decoded character using the shift value\n",
        "            decoded_char = chr((ord(char) - shift - ord('a')) % 26 + ord('a'))\n",
        "        else:\n",
        "            # If the character is not alphabetic, keep it unchanged\n",
        "            decoded_char = char\n",
        "\n",
        "        # Add the decoded character to the decoded text\n",
        "        decoded_text += decoded_char\n",
        "\n",
        "    # Return the fully decoded text\n",
        "    return decoded_text\n",
        "\n",
        "# Example input\n",
        "text = \"lopp, zruog!\"\n",
        "shift = 3\n",
        "\n",
        "# Call the caesar_cipher_decoder function to decode the input text\n",
        "decoded_text = caesar_cipher_decoder(text, shift)\n",
        "\n",
        "# Print the decoded text\n",
        "print(\"Decoded text:\", decoded_text)"
      ],
      "metadata": {
        "colab": {
          "base_uri": "https://localhost:8080/"
        },
        "id": "wsxl5Wquxh35",
        "outputId": "cd765cd6-768c-4d50-b4fe-e5e2a0c39888"
      },
      "execution_count": null,
      "outputs": [
        {
          "output_type": "stream",
          "name": "stdout",
          "text": [
            "Decoded text: ilmm, world!\n"
          ]
        }
      ]
    },
    {
      "cell_type": "markdown",
      "source": [
        "44. Find the most frequent word in a string.\n"
      ],
      "metadata": {
        "id": "cf9W9cPHw_cS"
      }
    },
    {
      "cell_type": "code",
      "source": [
        "import re\n",
        "from collections import Counter\n",
        "\n",
        "def most_frequent_word(input_string):\n",
        "    # Remove punctuation and convert to lowercase\n",
        "    clean_string = re.sub(r'[^\\w\\s]', '', input_string).lower()\n",
        "\n",
        "    # Split the string into words\n",
        "    words = clean_string.split()\n",
        "\n",
        "    # Use Counter to count word frequencies\n",
        "    word_counter = Counter(words)\n",
        "\n",
        "    # Find the most common word\n",
        "    most_common_word = word_counter.most_common(1)[0][0]\n",
        "\n",
        "\n",
        "\n",
        "\n",
        "return most_common_word\n",
        "\n",
        "# Example string\n",
        "input_str = \"Hello world, hello there! How's the world?\"\n",
        "\n",
        "# Find the most frequent word\n",
        "most_common = most_frequent_word(input_str)\n",
        "\n",
        "# Print the result\n",
        "print(\"Most frequent word:\", most_common)"
      ],
      "metadata": {
        "colab": {
          "base_uri": "https://localhost:8080/",
          "height": 140
        },
        "id": "oMLxlZcsx5EK",
        "outputId": "0ae51a81-b948-4da1-c58e-b0c709e2121e"
      },
      "execution_count": 1,
      "outputs": [
        {
          "output_type": "error",
          "ename": "SyntaxError",
          "evalue": "ignored",
          "traceback": [
            "\u001b[0;36m  File \u001b[0;32m\"<ipython-input-1-1498e0188d63>\"\u001b[0;36m, line \u001b[0;32m20\u001b[0m\n\u001b[0;31m    return most_common_word\u001b[0m\n\u001b[0m    ^\u001b[0m\n\u001b[0;31mSyntaxError\u001b[0m\u001b[0;31m:\u001b[0m 'return' outside function\n"
          ]
        }
      ]
    },
    {
      "cell_type": "markdown",
      "source": [
        "\n",
        "45. Find all unique words in a string.\n"
      ],
      "metadata": {
        "id": "Bs__qxKUDIhK"
      }
    },
    {
      "cell_type": "code",
      "source": [
        "def find_unique(string):\n",
        "  words=string.split()\n",
        "  unique_words=set(words)\n",
        "  unique_words_list=list(unique_words)\n",
        "  return unique_words_list\n",
        "string=\"this is a string . this string contains repeated words\"\n",
        "result=find_unique(string)\n",
        "print(result)\n"
      ],
      "metadata": {
        "colab": {
          "base_uri": "https://localhost:8080/"
        },
        "id": "NIIrSm7ODJ_h",
        "outputId": "b4037ac8-a0a5-45b6-9add-3f2e7bce4f8e"
      },
      "execution_count": null,
      "outputs": [
        {
          "output_type": "stream",
          "name": "stdout",
          "text": [
            "['words', 'string', '.', 'this', 'repeated', 'contains', 'a', 'is']\n"
          ]
        }
      ]
    },
    {
      "cell_type": "markdown",
      "source": [
        "#List Based Practice Problem :"
      ],
      "metadata": {
        "id": "8ZT12WdNEnOf"
      }
    },
    {
      "cell_type": "markdown",
      "source": [
        "1. Create a list with integers from 1 to 10"
      ],
      "metadata": {
        "id": "3Uvju0oKErK1"
      }
    },
    {
      "cell_type": "code",
      "source": [
        "#define a string having integers from 1 to 10\n",
        "l1=[1,2,3,4,5,6,7,8,9,10]"
      ],
      "metadata": {
        "id": "TvfrDvCrEtrD"
      },
      "execution_count": null,
      "outputs": []
    },
    {
      "cell_type": "markdown",
      "source": [
        "2.Find the length of a list without using the `len()` function.\n"
      ],
      "metadata": {
        "id": "_-v7yNOfGGWa"
      }
    },
    {
      "cell_type": "code",
      "source": [
        "#take a input from user\n",
        "l2=[1,\"anshika\",True,15.36,\"rajput\"]\n",
        "count=0\n",
        "#using the for loop\n",
        "for i in l2:\n",
        "  count+=1\n",
        "print(\"the length of the list is\",count)\n"
      ],
      "metadata": {
        "id": "jNHpJIb_GVtU",
        "colab": {
          "base_uri": "https://localhost:8080/"
        },
        "outputId": "d8dea6b5-b36b-42c2-976e-de9c8901b034"
      },
      "execution_count": null,
      "outputs": [
        {
          "output_type": "stream",
          "name": "stdout",
          "text": [
            "the length of the list is 5\n"
          ]
        }
      ]
    },
    {
      "cell_type": "markdown",
      "source": [
        "3. Append an element to the end of a list."
      ],
      "metadata": {
        "id": "YTxy9024HXsZ"
      }
    },
    {
      "cell_type": "code",
      "source": [
        "#define a list\n",
        "l3=[12.58,\"sum\",3245,True,False]\n",
        "#append a element\n",
        "l3.append(\"diffrence\")\n",
        "#print thelist again\n",
        "print(l3)"
      ],
      "metadata": {
        "id": "pLEJxCr_Hdq-",
        "colab": {
          "base_uri": "https://localhost:8080/"
        },
        "outputId": "adf85f30-51e8-4f78-c30f-1f4b161113d8"
      },
      "execution_count": null,
      "outputs": [
        {
          "output_type": "stream",
          "name": "stdout",
          "text": [
            "[12.58, 'sum', 3245, True, False, 'diffrence']\n"
          ]
        }
      ]
    },
    {
      "cell_type": "markdown",
      "source": [
        "4. Insert an element at a specific index in a list"
      ],
      "metadata": {
        "id": "pyY-tO69JMpC"
      }
    },
    {
      "cell_type": "code",
      "source": [
        "#define a list\n",
        "l = [\"Python\", \"Swift\", \"C++\"]\n",
        "#use insert function to insert element at specific place\n",
        "l1=l.insert(1,\"machine learning\")\n",
        "#print the list with new element\n",
        "print(l)"
      ],
      "metadata": {
        "id": "DwdNMKfZJQpi",
        "colab": {
          "base_uri": "https://localhost:8080/"
        },
        "outputId": "bf8b9d32-8962-4c75-8c19-b566d30f262f"
      },
      "execution_count": null,
      "outputs": [
        {
          "output_type": "stream",
          "name": "stdout",
          "text": [
            "['Python', 'machine learning', 'Swift', 'C++']\n"
          ]
        }
      ]
    },
    {
      "cell_type": "markdown",
      "source": [
        "5. Remove an element from a list by its value."
      ],
      "metadata": {
        "id": "uVQSJ-U_Lubk"
      }
    },
    {
      "cell_type": "code",
      "source": [
        "# define a list\n",
        "l4=[\"anshi\",\"rajput\",\"course\"]\n",
        "# define function to remove element by value\n",
        "l4.remove(\"rajput\")\n",
        "# print new list\n",
        "print(l4)"
      ],
      "metadata": {
        "id": "FoPAhmhmLyhl",
        "colab": {
          "base_uri": "https://localhost:8080/"
        },
        "outputId": "39679c05-1431-4358-fc3c-7d3daeb8a31e"
      },
      "execution_count": null,
      "outputs": [
        {
          "output_type": "stream",
          "name": "stdout",
          "text": [
            "['anshi', 'course']\n"
          ]
        }
      ]
    },
    {
      "cell_type": "markdown",
      "source": [
        "6. Remove an element from a list by its index\n"
      ],
      "metadata": {
        "id": "u3wdyxx4KBll"
      }
    },
    {
      "cell_type": "code",
      "source": [
        "# define a list\n",
        "l4=[1,2,3,4,5,6]\n",
        "# define function to remove element by index\n",
        "l4.remove(3)\n",
        "# print new list\n",
        "print(l4)"
      ],
      "metadata": {
        "id": "mbd6l4B8KCxg",
        "colab": {
          "base_uri": "https://localhost:8080/"
        },
        "outputId": "6eb01db2-bf82-44cb-c2b9-3f765693744e"
      },
      "execution_count": null,
      "outputs": [
        {
          "output_type": "stream",
          "name": "stdout",
          "text": [
            "[1, 2, 4, 5, 6]\n"
          ]
        }
      ]
    },
    {
      "cell_type": "markdown",
      "source": [
        "7. Check if an element exists in a list.\n"
      ],
      "metadata": {
        "id": "ghnVnIYxNSTZ"
      }
    },
    {
      "cell_type": "code",
      "source": [
        "# define a list\n",
        "l5 = [1, 2, 3, 4, 5]\n",
        "\n",
        "# Check if the element 3 exists in the list\n",
        "if 3 in l5:\n",
        "    print(\"Element 3 exists in the list\")\n",
        "else:\n",
        "    print(\"Element 3 does not exist in the list\")\n"
      ],
      "metadata": {
        "id": "ianSNb9LKaVo",
        "colab": {
          "base_uri": "https://localhost:8080/"
        },
        "outputId": "33d6c6a0-58dc-4284-ed99-dbb6e32acb36"
      },
      "execution_count": null,
      "outputs": [
        {
          "output_type": "stream",
          "name": "stdout",
          "text": [
            "Element 3 exists in the list\n"
          ]
        }
      ]
    },
    {
      "cell_type": "markdown",
      "source": [
        "8. Find the index of the first occurrence of an element in a list."
      ],
      "metadata": {
        "id": "33wBekOES8Kw"
      }
    },
    {
      "cell_type": "code",
      "source": [
        "# define a list\n",
        "l6 = [56.35,16.25,25.36,14.69,458.36,16.25]\n",
        "\n",
        "# Find the index of the first occurrence of the element 16.25\n",
        "index = l6.index(16.25)\n",
        "# print the index of first occurence\n",
        "print(\"Index of the first occurrence of 16.25:\", index)\n"
      ],
      "metadata": {
        "id": "qt_Df0l0S9OU",
        "colab": {
          "base_uri": "https://localhost:8080/"
        },
        "outputId": "de8c1e78-0854-4c9b-b153-464fea8d651b"
      },
      "execution_count": null,
      "outputs": [
        {
          "output_type": "stream",
          "name": "stdout",
          "text": [
            "Index of the first occurrence of 16.25: 1\n"
          ]
        }
      ]
    },
    {
      "cell_type": "markdown",
      "source": [
        "9. Count the occurrences of an element in a list\n"
      ],
      "metadata": {
        "id": "hUEMRgJMUCCp"
      }
    },
    {
      "cell_type": "code",
      "source": [
        "# define a list\n",
        "l7 = [56.35,16.25,25.36,14.69,458.36,16.25]\n",
        "\n",
        "# Find the occurrence of the element 16.25\n",
        "count = l7.count(16.25)\n",
        "# print the occurence\n",
        "print(\" occurrence of 16.25 is\", count)"
      ],
      "metadata": {
        "id": "J8pu1S9EUC-s",
        "colab": {
          "base_uri": "https://localhost:8080/"
        },
        "outputId": "45a34ffd-be44-4adc-d51d-fecb285a7b85"
      },
      "execution_count": null,
      "outputs": [
        {
          "output_type": "stream",
          "name": "stdout",
          "text": [
            " occurrence of 16.25 is 2\n"
          ]
        }
      ]
    },
    {
      "cell_type": "markdown",
      "source": [],
      "metadata": {
        "id": "dp9YredEVPEL"
      }
    },
    {
      "cell_type": "markdown",
      "source": [
        "10. Reverse the order of elements in a list"
      ],
      "metadata": {
        "id": "9SuM5VWkVP3t"
      }
    },
    {
      "cell_type": "code",
      "source": [
        "# define a list\n",
        "l8=[\"day\",12.25,True,29]\n",
        "#reverse the order of elements\n",
        "l8[::-1]\n",
        "# print the reverse order\n",
        "print(\" the reverse order of the string is\",l8[::-1])\n"
      ],
      "metadata": {
        "id": "ZNAutUALVQww",
        "colab": {
          "base_uri": "https://localhost:8080/"
        },
        "outputId": "4c8866f9-569a-4e09-9edf-3f63de1b15b7"
      },
      "execution_count": null,
      "outputs": [
        {
          "output_type": "stream",
          "name": "stdout",
          "text": [
            " the reverse order of the string is [29, True, 12.25, 'day']\n"
          ]
        }
      ]
    },
    {
      "cell_type": "markdown",
      "source": [
        "11. Sort the list in the ascending order"
      ],
      "metadata": {
        "id": "IKU5R5s6XEVQ"
      }
    },
    {
      "cell_type": "code",
      "source": [
        "# define a list\n",
        "l9=[2,8,1,7,10,6,12]\n",
        "# sort the list\n",
        "l9.sort()\n",
        "# print the list after sorting\n",
        "print(l9)"
      ],
      "metadata": {
        "id": "joc_yKtoXKkS",
        "colab": {
          "base_uri": "https://localhost:8080/"
        },
        "outputId": "12e85854-95fa-43a6-e4b6-351fb88e1932"
      },
      "execution_count": null,
      "outputs": [
        {
          "output_type": "stream",
          "name": "stdout",
          "text": [
            "[1, 2, 6, 7, 8, 10, 12]\n"
          ]
        }
      ]
    },
    {
      "cell_type": "markdown",
      "source": [
        "12. Sort a list in descending order.\n"
      ],
      "metadata": {
        "id": "fFU3GTGehe6t"
      }
    },
    {
      "cell_type": "code",
      "source": [
        "# define a list\n",
        "l9=[2,8,1,7,10,6,12]\n",
        "# sort the list\n",
        "l9.sort(reverse=True)\n",
        "# print the list after sorting\n",
        "print(l9)"
      ],
      "metadata": {
        "colab": {
          "base_uri": "https://localhost:8080/"
        },
        "id": "A8CbaxpJhj6v",
        "outputId": "ff003d35-36fd-486c-c9bd-aa5f78001654"
      },
      "execution_count": null,
      "outputs": [
        {
          "output_type": "stream",
          "name": "stdout",
          "text": [
            "[12, 10, 8, 7, 6, 2, 1]\n"
          ]
        }
      ]
    },
    {
      "cell_type": "markdown",
      "source": [
        "13. Create a list of even numbers from 1 to 20"
      ],
      "metadata": {
        "id": "pHydic8rfWwR"
      }
    },
    {
      "cell_type": "code",
      "source": [
        "even_numbers = [num for num in range(1, 21) if num % 2 == 0]\n",
        "print(even_numbers)"
      ],
      "metadata": {
        "id": "fP69mLP9fcjz",
        "colab": {
          "base_uri": "https://localhost:8080/"
        },
        "outputId": "1e3e52c6-25dd-4ad3-e845-f025a317e255"
      },
      "execution_count": null,
      "outputs": [
        {
          "output_type": "stream",
          "name": "stdout",
          "text": [
            "[2, 4, 6, 8, 10, 12, 14, 16, 18, 20]\n"
          ]
        }
      ]
    },
    {
      "cell_type": "markdown",
      "source": [
        "14. Create a list of odd numbers from 1 to 20"
      ],
      "metadata": {
        "id": "jGihmijDfykV"
      }
    },
    {
      "cell_type": "code",
      "source": [
        "odd_numbers = [num for num in range(1, 21) if num % 2 != 0]\n",
        "print(odd_numbers)\n"
      ],
      "metadata": {
        "id": "OINf6u7Rf143",
        "colab": {
          "base_uri": "https://localhost:8080/"
        },
        "outputId": "e5d77942-3b82-4c3b-f7f0-75359e0fd704"
      },
      "execution_count": null,
      "outputs": [
        {
          "output_type": "stream",
          "name": "stdout",
          "text": [
            "[1, 3, 5, 7, 9, 11, 13, 15, 17, 19]\n"
          ]
        }
      ]
    },
    {
      "cell_type": "markdown",
      "source": [
        "15. Find the sum of all elements in a list."
      ],
      "metadata": {
        "id": "61dxxyuYf4_F"
      }
    },
    {
      "cell_type": "code",
      "source": [
        "numbers=[3,5,6,9,23,56,14]\n",
        "sum_of_numbers =0\n",
        "for num in numbers:\n",
        "  sum_of_numbers+=num\n",
        "print(\"sum of the list is\",sum_of_numbers)"
      ],
      "metadata": {
        "id": "xOkCpr-uf5-7",
        "colab": {
          "base_uri": "https://localhost:8080/"
        },
        "outputId": "6af54cc0-f2c0-4ebb-ee44-a7350b76e7dd"
      },
      "execution_count": null,
      "outputs": [
        {
          "output_type": "stream",
          "name": "stdout",
          "text": [
            "sum of the list is 116\n"
          ]
        }
      ]
    },
    {
      "cell_type": "markdown",
      "source": [
        "16. Find the maximum value in a list\n"
      ],
      "metadata": {
        "id": "tB38gNqjlVB7"
      }
    },
    {
      "cell_type": "code",
      "source": [
        "# define a list\n",
        "h=[2,9,15,28,1,14]\n",
        "# use max function\n",
        "h1=max(h)\n",
        "#print max value\n",
        "print(h1)"
      ],
      "metadata": {
        "id": "WVdipPrzlbM7",
        "colab": {
          "base_uri": "https://localhost:8080/"
        },
        "outputId": "9faa50cb-47d1-4b15-ea6b-a8e68bab7e09"
      },
      "execution_count": null,
      "outputs": [
        {
          "output_type": "stream",
          "name": "stdout",
          "text": [
            "28\n"
          ]
        }
      ]
    },
    {
      "cell_type": "markdown",
      "source": [
        "17. Find the minimum value in a list.\n"
      ],
      "metadata": {
        "id": "coACVhc8P0Ip"
      }
    },
    {
      "cell_type": "code",
      "source": [
        "# define a list\n",
        "h=[2,9,15,28,1,14]\n",
        "# use min function\n",
        "h1=min(h)\n",
        "#print min value\n",
        "print(h1)"
      ],
      "metadata": {
        "id": "ckripnjBmq3i",
        "colab": {
          "base_uri": "https://localhost:8080/"
        },
        "outputId": "0f2b6994-3852-4371-d64d-2e90d600c48c"
      },
      "execution_count": null,
      "outputs": [
        {
          "output_type": "stream",
          "name": "stdout",
          "text": [
            "1\n"
          ]
        }
      ]
    },
    {
      "cell_type": "markdown",
      "source": [
        "18. Create a list of squares of numbers from 1 to 10."
      ],
      "metadata": {
        "id": "1zjHhN0QQE4p"
      }
    },
    {
      "cell_type": "code",
      "source": [
        "# define a range and print the squares of the numbers\n",
        "for num in range(1,11):\n",
        "  print(num**2,end=\" \")"
      ],
      "metadata": {
        "id": "0KlOIQwwQGR0",
        "colab": {
          "base_uri": "https://localhost:8080/"
        },
        "outputId": "d33b467c-baac-409f-e7a9-004aa41d4504"
      },
      "execution_count": null,
      "outputs": [
        {
          "output_type": "stream",
          "name": "stdout",
          "text": [
            "1 4 9 16 25 36 49 64 81 100 "
          ]
        }
      ]
    },
    {
      "cell_type": "markdown",
      "source": [
        "19. Create a list of random numbers"
      ],
      "metadata": {
        "id": "Q5Swaw_CQxbj"
      }
    },
    {
      "cell_type": "code",
      "source": [
        "import random\n",
        "\n",
        "# Generate a list of 10 random integers between 1 and 100\n",
        "random_numbers = [random.randint(1, 100) for i in range(10)]\n",
        "\n",
        "print(random_numbers)\n"
      ],
      "metadata": {
        "id": "bKTK9qqrQyL3",
        "colab": {
          "base_uri": "https://localhost:8080/"
        },
        "outputId": "5598dbc1-dabd-486c-fc58-1f58abfe62e8"
      },
      "execution_count": null,
      "outputs": [
        {
          "output_type": "stream",
          "name": "stdout",
          "text": [
            "[83, 3, 50, 45, 99, 8, 32, 50, 32, 30]\n"
          ]
        }
      ]
    },
    {
      "cell_type": "markdown",
      "source": [
        "20. Remove duplicates from a list\n"
      ],
      "metadata": {
        "id": "lgSQNUV4TnFp"
      }
    },
    {
      "cell_type": "code",
      "source": [
        "# define a list\n",
        "l2=[\"yes\",12.36,\"yes\",15,15]\n",
        "#convert the list into set to remove duplicates\n",
        "l2=set(l2)\n",
        "unique_l2=list(l2)\n",
        "print(unique_l2)"
      ],
      "metadata": {
        "colab": {
          "base_uri": "https://localhost:8080/"
        },
        "id": "mnX2mZPKTsvq",
        "outputId": "babf825c-b641-4c7a-9a82-1eb63df6889b"
      },
      "execution_count": null,
      "outputs": [
        {
          "output_type": "stream",
          "name": "stdout",
          "text": [
            "['yes', 12.36, 15]\n"
          ]
        }
      ]
    },
    {
      "cell_type": "markdown",
      "source": [
        "21. Find the common elements between two lists.\n"
      ],
      "metadata": {
        "id": "yapIqUtzUp_T"
      }
    },
    {
      "cell_type": "code",
      "source": [
        "l1=[1,2,3,4,5]\n",
        "l2=[1,2,3,4,6]\n",
        "for i in l1:\n",
        "  if i in l2:\n",
        "    print(i)"
      ],
      "metadata": {
        "id": "PD4m6cT-UqsK",
        "colab": {
          "base_uri": "https://localhost:8080/"
        },
        "outputId": "dd42afb7-16fe-4b30-fef9-16d7b0b00ee2"
      },
      "execution_count": null,
      "outputs": [
        {
          "output_type": "stream",
          "name": "stdout",
          "text": [
            "1\n",
            "2\n",
            "3\n",
            "4\n"
          ]
        }
      ]
    },
    {
      "cell_type": "markdown",
      "source": [
        "22. Find the difference between two lists."
      ],
      "metadata": {
        "id": "Y5GbLCQYUuFc"
      }
    },
    {
      "cell_type": "code",
      "source": [
        "l1=[1,2,3,4,5]\n",
        "l2=[1,2,3,4,6]\n",
        "for i in l1:\n",
        "  if i not in l2:\n",
        "    print(i)\n",
        "for j in l2:\n",
        "  if j not in l1:\n",
        "    print(j)\n"
      ],
      "metadata": {
        "colab": {
          "base_uri": "https://localhost:8080/"
        },
        "id": "2ubdA-1M6Xtl",
        "outputId": "5cfe164d-987f-4921-a4f9-87234e6f8e60"
      },
      "execution_count": null,
      "outputs": [
        {
          "output_type": "stream",
          "name": "stdout",
          "text": [
            "5\n",
            "6\n"
          ]
        }
      ]
    },
    {
      "cell_type": "markdown",
      "source": [
        "23. Merge two lists.\n"
      ],
      "metadata": {
        "id": "hKYRMg7tU1x6"
      }
    },
    {
      "cell_type": "code",
      "source": [
        "# define two lists\n",
        "l2=[2,5,9,6,7,8]\n",
        "l3=[10,12,15,18,95]\n",
        "# add both lists\n",
        "l2+l3\n",
        "#print merged list\n",
        "print(l2+l3)\n"
      ],
      "metadata": {
        "colab": {
          "base_uri": "https://localhost:8080/"
        },
        "id": "ZojNBd_FUzPN",
        "outputId": "9108b0b7-84e2-40d1-ba4e-2df5a6489514"
      },
      "execution_count": null,
      "outputs": [
        {
          "output_type": "stream",
          "name": "stdout",
          "text": [
            "[2, 5, 9, 6, 7, 8, 10, 12, 15, 18, 95]\n"
          ]
        }
      ]
    },
    {
      "cell_type": "markdown",
      "source": [
        "24. Multiply all elements in a list by 2"
      ],
      "metadata": {
        "id": "59yZta5OYGaC"
      }
    },
    {
      "cell_type": "code",
      "source": [
        "l=(1,2,3,4,5)\n",
        "for i in l:\n",
        "  print(i*2)"
      ],
      "metadata": {
        "id": "f_jMn4TZYHHQ",
        "colab": {
          "base_uri": "https://localhost:8080/"
        },
        "outputId": "20fd8b86-6c81-4c04-dc6c-28daa0db277c"
      },
      "execution_count": null,
      "outputs": [
        {
          "output_type": "stream",
          "name": "stdout",
          "text": [
            "2\n",
            "4\n",
            "6\n",
            "8\n",
            "10\n"
          ]
        }
      ]
    },
    {
      "cell_type": "markdown",
      "source": [
        "25. Filter out all even numbers from a list."
      ],
      "metadata": {
        "id": "SQHIaThhcd87"
      }
    },
    {
      "cell_type": "code",
      "source": [
        "l3=[1,2,3,4,5,6,7,8,9,10]\n",
        "result=[num for num in l3 if num%2 ==0]\n",
        "print(result)\n"
      ],
      "metadata": {
        "colab": {
          "base_uri": "https://localhost:8080/"
        },
        "id": "lNNfwldrcexP",
        "outputId": "69d9001f-3afd-42ce-92c1-e3f010534647"
      },
      "execution_count": null,
      "outputs": [
        {
          "output_type": "stream",
          "name": "stdout",
          "text": [
            "[2, 4, 6, 8, 10]\n"
          ]
        }
      ]
    },
    {
      "cell_type": "markdown",
      "source": [
        "26. Convert a list of strings to a list of integers"
      ],
      "metadata": {
        "id": "x1Sez8Q9erxL"
      }
    },
    {
      "cell_type": "code",
      "source": [
        "list=[\"1\",\"2\",\"3\",\"4\"]\n",
        "list1 =[]\n",
        "for i in list:\n",
        "  list1.append(int(i))\n",
        "print(list1)"
      ],
      "metadata": {
        "colab": {
          "base_uri": "https://localhost:8080/"
        },
        "id": "ICztDjAiesV2",
        "outputId": "930b2ed1-8c67-45d5-9e5a-940b6ad59686"
      },
      "execution_count": null,
      "outputs": [
        {
          "output_type": "stream",
          "name": "stdout",
          "text": [
            "[1, 2, 3, 4]\n"
          ]
        }
      ]
    },
    {
      "cell_type": "markdown",
      "source": [
        "27. Convert a list of integers to a list of strings."
      ],
      "metadata": {
        "id": "Dd4aKKgovh12"
      }
    },
    {
      "cell_type": "code",
      "source": [
        "# define a list\n",
        "l=[1,2,3,4,5]\n",
        "l1=[]\n",
        "for i in l:\n",
        "  l1.append(str(i))\n",
        "print(l1)"
      ],
      "metadata": {
        "colab": {
          "base_uri": "https://localhost:8080/"
        },
        "id": "AjLfhN-zvkS3",
        "outputId": "5a1a3299-e601-4b5d-ba81-046226da63e9"
      },
      "execution_count": null,
      "outputs": [
        {
          "output_type": "stream",
          "name": "stdout",
          "text": [
            "['1', '2', '3', '4', '5']\n"
          ]
        }
      ]
    },
    {
      "cell_type": "markdown",
      "source": [
        "28. Flatten a nested list"
      ],
      "metadata": {
        "id": "I5N7Lafq7Ge1"
      }
    },
    {
      "cell_type": "code",
      "source": [
        "def flatten_list(nested_list):\n",
        "    flattened_list = []\n",
        "    for element in nested_list:\n",
        "        if isinstance(element, list):\n",
        "            flattened_list.extend(flatten_list(element))\n",
        "        else:\n",
        "            flattened_list.append(element)\n",
        "    return flattened_list\n",
        "\n",
        "# Example usage:\n",
        "nested_list = [1, [2, 3, [4, 5]], 6, [7, [8, 9]]]\n",
        "flattened_list = flatten_list(nested_list)\n",
        "\n",
        "print(flattened_list)\n"
      ],
      "metadata": {
        "colab": {
          "base_uri": "https://localhost:8080/"
        },
        "id": "7dOmRz4PjJ5X",
        "outputId": "56e4a1b1-4507-4721-81df-6380f0031d18"
      },
      "execution_count": null,
      "outputs": [
        {
          "output_type": "stream",
          "name": "stdout",
          "text": [
            "[1, 2, 3, 4, 5, 6, 7, 8, 9]\n"
          ]
        }
      ]
    },
    {
      "cell_type": "markdown",
      "source": [
        "29. Create a list of the first 10 Fibonacci numbers."
      ],
      "metadata": {
        "id": "BCdYs57e7INw"
      }
    },
    {
      "cell_type": "code",
      "source": [
        "def fib(n):\n",
        "  fib_list=[0,1]\n",
        "  for i in range(2, n):\n",
        "        next_fibonacci = fib_list[i - 1] + fib_list[i - 2]\n",
        "        fib_list.append(next_fibonacci)\n",
        "\n",
        "  return fib_list\n",
        "fib_numbers=fib(5)## let n=5\n",
        "print(fib_numbers)\n",
        "\n"
      ],
      "metadata": {
        "colab": {
          "base_uri": "https://localhost:8080/"
        },
        "id": "x2crwdnw8fTr",
        "outputId": "b47d63ec-34a2-4611-8021-f0a8dbcb5260"
      },
      "execution_count": null,
      "outputs": [
        {
          "output_type": "stream",
          "name": "stdout",
          "text": [
            "[0, 1, 1, 2, 3]\n"
          ]
        }
      ]
    },
    {
      "cell_type": "markdown",
      "source": [
        "30. Check if a list is sorted"
      ],
      "metadata": {
        "id": "6I3vvJJ0xRLB"
      }
    },
    {
      "cell_type": "code",
      "source": [
        "l = [10, 11, 12, 13, 14, 15]\n",
        "\n",
        "# Create a sorted version of the list\n",
        "sorted_list = sorted(l)\n",
        "\n",
        "# Compare the original list with the sorted version\n",
        "if l == sorted_list:\n",
        "    print(\"yes\")\n",
        "else:\n",
        "    print(\"no\")\n"
      ],
      "metadata": {
        "colab": {
          "base_uri": "https://localhost:8080/"
        },
        "id": "-6Hegjcn_XVj",
        "outputId": "af1aac99-012a-4a6e-ed55-2336b6e5b703"
      },
      "execution_count": null,
      "outputs": [
        {
          "output_type": "stream",
          "name": "stdout",
          "text": [
            "yes\n"
          ]
        }
      ]
    },
    {
      "cell_type": "markdown",
      "source": [
        "31. Rotate a list to the left by `n` positions"
      ],
      "metadata": {
        "id": "U1dZXIlzl-ik"
      }
    },
    {
      "cell_type": "code",
      "source": [
        "# Function to rotate a list to the left by n positions\n",
        "def rotate_left(lst, n):\n",
        "    n = n % len(lst)  # Normalize n to handle cases where n is larger than the list length\n",
        "    # print(n)\n",
        "    rotated = lst[n:] + lst[:n]\n",
        "    return rotated\n",
        "\n",
        "# Example list\n",
        "my_list = [1, 2, 3, 4, 5, 6]\n",
        "\n",
        "# Number of positions to rotate by\n",
        "n = 2\n",
        "\n",
        "# Rotate the list to the left by n positions\n",
        "rotated_list = rotate_left(my_list, n)\n",
        "\n",
        "# Print the rotated list\n",
        "print(\"Rotated list:\", rotated_list)\n"
      ],
      "metadata": {
        "colab": {
          "base_uri": "https://localhost:8080/"
        },
        "id": "ktqyj7uomALd",
        "outputId": "ff12d30d-2c87-4116-de15-58abb951a2b6"
      },
      "execution_count": null,
      "outputs": [
        {
          "output_type": "stream",
          "name": "stdout",
          "text": [
            "Rotated list: [3, 4, 5, 6, 1, 2]\n"
          ]
        }
      ]
    },
    {
      "cell_type": "markdown",
      "source": [
        "32. Rotate a list to the right by `n` positions."
      ],
      "metadata": {
        "id": "Xe9ZVth9mso1"
      }
    },
    {
      "cell_type": "code",
      "source": [
        "# Function to rotate a list to the right by n positions\n",
        "def rotate_right(lst, n):\n",
        "    n = n % len(lst)  # Normalize n to handle cases where n is larger than the list length\n",
        "    # print(n)\n",
        "    rotated = lst[-n:] + lst[:-n]\n",
        "    return rotated\n",
        "\n",
        "# Example list\n",
        "my_list = [1, 2, 3, 4, 5, 6]\n",
        "\n",
        "# Number of positions to rotate by\n",
        "n = 2\n",
        "\n",
        "# Rotate the list to the right by n positions\n",
        "rotated_list = rotate_right(my_list, n)\n",
        "\n",
        "# Print the rotated list\n",
        "print(\"Rotated list:\", rotated_list)"
      ],
      "metadata": {
        "colab": {
          "base_uri": "https://localhost:8080/"
        },
        "id": "88SP7u0doRPS",
        "outputId": "57e3b907-57d7-4fb1-93b3-24e9c5731397"
      },
      "execution_count": null,
      "outputs": [
        {
          "output_type": "stream",
          "name": "stdout",
          "text": [
            "Rotated list: [5, 6, 1, 2, 3, 4]\n"
          ]
        }
      ]
    },
    {
      "cell_type": "markdown",
      "source": [
        "33. Create a list of prime numbers up to 50.\n"
      ],
      "metadata": {
        "id": "ATG0Z8zQmnMG"
      }
    },
    {
      "cell_type": "code",
      "source": [
        "def is_prime(num):\n",
        "    if num < 2:\n",
        "        return False\n",
        "    for i in range(2, int(num**0.5) + 1):\n",
        "        if num % i == 0:\n",
        "            return False\n",
        "    return True\n",
        "\n",
        "# Generate a list of prime numbers up to 50\n",
        "prime_numbers = [num for num in range(51) if is_prime(num)]\n",
        "\n",
        "print(prime_numbers)\n"
      ],
      "metadata": {
        "id": "AUOBSZm1oWgw"
      },
      "execution_count": null,
      "outputs": []
    },
    {
      "cell_type": "markdown",
      "source": [
        "34. Split a list into chunks of size `n`"
      ],
      "metadata": {
        "id": "4zK0bcklmyn5"
      }
    },
    {
      "cell_type": "code",
      "source": [
        "def chunk_list(input_list, chunk_size):\n",
        "    return [input_list[i:i + chunk_size] for i in range(0, len(input_list), chunk_size)]\n",
        "\n",
        "# Example usage:\n",
        "my_list = [1, 2, 3, 4, 5, 6, 7, 8, 9, 10]\n",
        "chunk_size = 3\n",
        "result = chunk_list(my_list, chunk_size)\n",
        "\n",
        "print(result)\n"
      ],
      "metadata": {
        "id": "jyiuL8ZbCErF",
        "outputId": "3c012142-7118-4193-9d14-2ca6f1361d23",
        "colab": {
          "base_uri": "https://localhost:8080/"
        }
      },
      "execution_count": null,
      "outputs": [
        {
          "output_type": "stream",
          "name": "stdout",
          "text": [
            "[[1, 2, 3], [4, 5, 6], [7, 8, 9], [10]]\n"
          ]
        }
      ]
    },
    {
      "cell_type": "markdown",
      "source": [
        "35. Find the second largest number in a list.\n"
      ],
      "metadata": {
        "id": "EfrgNCicm24k"
      }
    },
    {
      "cell_type": "code",
      "source": [
        "def second_largest(numbers):\n",
        "    # Ensure that the list has at least two elements\n",
        "    if len(numbers) < 2:\n",
        "        return \"List must have at least two elements.\"\n",
        "\n",
        "    # Find the maximum and second maximum using sorting\n",
        "    sorted_numbers = sorted(set(numbers), reverse=True)\n",
        "    return sorted_numbers[1]\n",
        "\n",
        "# Example usage:\n",
        "my_list = [10, 5, 8, 12, 7, 3, 15]\n",
        "result = second_largest(my_list)\n",
        "\n",
        "print(f\"The second largest number is: {result}\")\n"
      ],
      "metadata": {
        "colab": {
          "base_uri": "https://localhost:8080/"
        },
        "id": "fqrLDoPAB0i8",
        "outputId": "a7b0d419-35fb-47e3-d28b-a037eea094d5"
      },
      "execution_count": null,
      "outputs": [
        {
          "output_type": "stream",
          "name": "stdout",
          "text": [
            "The second largest number is: 12\n"
          ]
        }
      ]
    },
    {
      "cell_type": "markdown",
      "source": [
        "36. Replace every element in a list with its square"
      ],
      "metadata": {
        "id": "mjm7zZrCwijn"
      }
    },
    {
      "cell_type": "code",
      "source": [
        "# define a list\n",
        "l=[2,4,6,8]\n",
        "l1=[]\n",
        "for i in l:\n",
        "  l1.append(i**2)\n",
        "print(l1)"
      ],
      "metadata": {
        "colab": {
          "base_uri": "https://localhost:8080/"
        },
        "id": "dPEXGQA5wkG1",
        "outputId": "b06e9283-e272-434d-b1b7-6433fab0d9d5"
      },
      "execution_count": null,
      "outputs": [
        {
          "output_type": "stream",
          "name": "stdout",
          "text": [
            "[4, 16, 36, 64]\n"
          ]
        }
      ]
    },
    {
      "cell_type": "markdown",
      "source": [
        "37. Convert a list to a dictionary where list elements become keys and their\n",
        "indices become values.\n"
      ],
      "metadata": {
        "id": "b1WbJU6Lzndr"
      }
    },
    {
      "cell_type": "code",
      "source": [
        "# Example list\n",
        "my_list = ['apple', 'banana', 'cherry', 'date', 'elderberry']\n",
        "\n",
        "# Convert list to dictionary using dictionary comprehension\n",
        "my_dict = {element: index for index, element in enumerate(my_list)}\n",
        "\n",
        "# Print the resulting dictionary\n",
        "print(\"Converted dictionary:\", my_dict)"
      ],
      "metadata": {
        "colab": {
          "base_uri": "https://localhost:8080/"
        },
        "id": "d_QZl8QTzqAY",
        "outputId": "5ba84da0-a15c-4eac-8fb6-f619e0087490"
      },
      "execution_count": null,
      "outputs": [
        {
          "output_type": "stream",
          "name": "stdout",
          "text": [
            "Converted dictionary: {'apple': 0, 'banana': 1, 'cherry': 2, 'date': 3, 'elderberry': 4}\n"
          ]
        }
      ]
    },
    {
      "cell_type": "markdown",
      "source": [
        "38. Shuffle the elements of a list randomly"
      ],
      "metadata": {
        "id": "COUTc_490Cr9"
      }
    },
    {
      "cell_type": "code",
      "source": [
        "import random\n",
        "\n",
        "# Example list\n",
        "my_list = [1, 2, 3, 4, 5, 6, 7, 8, 9, 10]\n",
        "\n",
        "# Shuffle the list randomly\n",
        "random.shuffle(my_list)\n",
        "\n",
        "# Print the shuffled list\n",
        "print(\"Shuffled list:\", my_list)"
      ],
      "metadata": {
        "colab": {
          "base_uri": "https://localhost:8080/"
        },
        "id": "x58iKyRv0H-K",
        "outputId": "20369a8f-cc7a-487d-edea-4e67c09bbc2f"
      },
      "execution_count": null,
      "outputs": [
        {
          "output_type": "stream",
          "name": "stdout",
          "text": [
            "Shuffled list: [2, 3, 7, 5, 1, 4, 10, 8, 6, 9]\n"
          ]
        }
      ]
    },
    {
      "cell_type": "markdown",
      "source": [
        "39. Create a list of the first 10 factorial numbers"
      ],
      "metadata": {
        "id": "CYPfvI7B0GrK"
      }
    },
    {
      "cell_type": "code",
      "source": [
        "def fac(n):\n",
        "  if n<=1:\n",
        "    return 1\n",
        "  elif n>1:\n",
        "    return n* fac(n-1)\n",
        "  else:\n",
        "    return \"invalid input\"\n",
        "factorial_number= [fac(i) for i in range(10)]\n",
        "print(factorial_number)\n",
        "\n",
        "\n"
      ],
      "metadata": {
        "colab": {
          "base_uri": "https://localhost:8080/"
        },
        "id": "qko85V-s0XUu",
        "outputId": "38a2cc24-357f-4757-bd09-4c74516387f2"
      },
      "execution_count": null,
      "outputs": [
        {
          "output_type": "stream",
          "name": "stdout",
          "text": [
            "[1, 1, 2, 6, 24, 120, 720, 5040, 40320, 362880]\n"
          ]
        }
      ]
    },
    {
      "cell_type": "markdown",
      "source": [
        "40. Check if two lists have at least one element in common.\n"
      ],
      "metadata": {
        "id": "htRKuqDc0GvN"
      }
    },
    {
      "cell_type": "code",
      "source": [
        "# Function to check if two lists have at least one element in common\n",
        "def has_common_element(list1, list2):\n",
        "    for item in list1:\n",
        "        if item in list2:\n",
        "            return True\n",
        "    return False\n",
        "\n",
        "# Example lists\n",
        "list1 = [1, 2, 3, 4, 5]\n",
        "list2 = [4, 5, 6, 7, 8]\n",
        "\n",
        "# Check if the two lists have at least one element in common\n",
        "if has_common_element(list1, list2):\n",
        "    print(\"The lists have at least one common element.\")\n",
        "else:\n",
        "    print(\"The lists do not have any common elements.\")"
      ],
      "metadata": {
        "colab": {
          "base_uri": "https://localhost:8080/"
        },
        "id": "rvy3Qkqz1s5K",
        "outputId": "6eb4f542-e8aa-44ed-a83c-533e3686c3e0"
      },
      "execution_count": null,
      "outputs": [
        {
          "output_type": "stream",
          "name": "stdout",
          "text": [
            "The lists have at least one common element.\n"
          ]
        }
      ]
    },
    {
      "cell_type": "markdown",
      "source": [
        "41. Remove all elements from a list.\n"
      ],
      "metadata": {
        "id": "p_eqOUQy0G23"
      }
    },
    {
      "cell_type": "code",
      "source": [
        "# Example list\n",
        "my_list = [1, 2, 3, 4, 5]\n",
        "\n",
        "# Clear all elements from the list\n",
        "my_list.clear()\n",
        "\n",
        "# Print the empty list\n",
        "print(\"Empty list:\", my_list)"
      ],
      "metadata": {
        "colab": {
          "base_uri": "https://localhost:8080/"
        },
        "id": "SQhksBxp15pb",
        "outputId": "8a4c24fd-9eae-4031-b578-a90cdf2b1e15"
      },
      "execution_count": null,
      "outputs": [
        {
          "output_type": "stream",
          "name": "stdout",
          "text": [
            "Empty list: []\n"
          ]
        }
      ]
    },
    {
      "cell_type": "markdown",
      "source": [
        "42. Replace negative numbers in a list with 0.\n",
        "\n",
        "\n"
      ],
      "metadata": {
        "id": "-eZnL3CgXaf_"
      }
    },
    {
      "cell_type": "code",
      "source": [
        "# Example list\n",
        "my_list = [10, -5, 20, -15, 30, -25]\n",
        "\n",
        "# Step 1: Iterate through the list and replace negative numbers with 0\n",
        "for i in range(len(my_list)):\n",
        "    if my_list[i] < 0:\n",
        "        my_list[i] = 0\n",
        "\n",
        "# Print the list after replacing negative numbers with 0\n",
        "print(\"List after replacing negative numbers with 0:\", my_list)"
      ],
      "metadata": {
        "colab": {
          "base_uri": "https://localhost:8080/"
        },
        "id": "85dfWkje8k9B",
        "outputId": "e417e6df-9b21-49cd-dd98-36aab03ee21f"
      },
      "execution_count": null,
      "outputs": [
        {
          "output_type": "stream",
          "name": "stdout",
          "text": [
            "List after replacing negative numbers with 0: [10, 0, 20, 0, 30, 0]\n"
          ]
        }
      ]
    },
    {
      "cell_type": "markdown",
      "source": [
        "43. Convert a string into a list of words.\n"
      ],
      "metadata": {
        "id": "B6FK1vXu2Ag6"
      }
    },
    {
      "cell_type": "code",
      "source": [
        "## get a string from the user\n",
        "string=input(\"enter a string\")\n",
        "## split into words\n",
        "words=string.split()\n",
        "\n",
        "print(words)"
      ],
      "metadata": {
        "colab": {
          "base_uri": "https://localhost:8080/"
        },
        "id": "ccPMyWzr8vB7",
        "outputId": "ac101898-acb2-4c20-916c-097d72dde800"
      },
      "execution_count": null,
      "outputs": [
        {
          "output_type": "stream",
          "name": "stdout",
          "text": [
            "enter a stringmy self anshika rajput\n",
            "['my', 'self', 'anshika', 'rajput']\n"
          ]
        }
      ]
    },
    {
      "cell_type": "markdown",
      "source": [
        "44. Convert a list of words into a string"
      ],
      "metadata": {
        "id": "XEAE6x3n2Ald"
      }
    },
    {
      "cell_type": "code",
      "source": [
        "# Example list of words\n",
        "word_list = [\"Hello,\", \"this\", \"is\", \"a\", \"sample\", \"sentence.\"]\n",
        "\n",
        "# Convert the list of words into a string\n",
        "my_string = \" \".join(word_list)\n",
        "\n",
        "# Print the resulting string\n",
        "print(\"Converted string:\", my_string)"
      ],
      "metadata": {
        "colab": {
          "base_uri": "https://localhost:8080/"
        },
        "id": "pSIpEiou9kNm",
        "outputId": "24d82281-f5d2-4785-c454-a37aab0fe880"
      },
      "execution_count": null,
      "outputs": [
        {
          "output_type": "stream",
          "name": "stdout",
          "text": [
            "Converted string: Hello, this is a sample sentence.\n"
          ]
        }
      ]
    },
    {
      "cell_type": "markdown",
      "source": [
        "45. Create a list of the first `n` powers of 2.\n"
      ],
      "metadata": {
        "id": "0H5jSYMV2ApB"
      }
    },
    {
      "cell_type": "code",
      "source": [
        "# Specify the value of n\n",
        "n = 5\n",
        "\n",
        "# Create a list of the first n powers of 2 using a loop\n",
        "power_list = [2 ** i for i in range(n)]\n",
        "\n",
        "# Print the list of powers of 2\n",
        "print(\"List of the first\", n, \"powers of 2:\", power_list)\n"
      ],
      "metadata": {
        "colab": {
          "base_uri": "https://localhost:8080/"
        },
        "id": "a7T4o3K091vi",
        "outputId": "13bf50eb-b8fc-4293-e3f7-6d0e9e05829e"
      },
      "execution_count": null,
      "outputs": [
        {
          "output_type": "stream",
          "name": "stdout",
          "text": [
            "List of the first 5 powers of 2: [1, 2, 4, 8, 16]\n"
          ]
        }
      ]
    },
    {
      "cell_type": "markdown",
      "source": [
        "46. Find the longest string in a list of strings"
      ],
      "metadata": {
        "id": "b5c2Wbw12AtW"
      }
    },
    {
      "cell_type": "code",
      "source": [
        "string_list=[\"anshika\",\"rajput\",\"pwskills\",\"datascience\"]\n",
        "longest_string=\"\"\n",
        "for i in string_list:\n",
        "  if len(i)>len(longest_string):\n",
        "    longest_string=i\n",
        "print(\"the longest string is\",longest_string)"
      ],
      "metadata": {
        "colab": {
          "base_uri": "https://localhost:8080/"
        },
        "id": "gJV7r-S--1TU",
        "outputId": "5eb86558-582e-429f-a489-92d17fe85ca8"
      },
      "execution_count": null,
      "outputs": [
        {
          "output_type": "stream",
          "name": "stdout",
          "text": [
            "the longest string is datascience\n"
          ]
        }
      ]
    },
    {
      "cell_type": "markdown",
      "source": [
        "47. Find the shortest string in a list of strings.\n"
      ],
      "metadata": {
        "id": "B6T0GrP92Aw-"
      }
    },
    {
      "cell_type": "code",
      "source": [
        "string_list=[\"anshika\",\"rajput\",\"pwskills\",\"datascience\"]\n",
        "shortest_string=string_list[0]\n",
        "for i in string_list:\n",
        "  if len(i)<len(shortest_string):\n",
        "    shortest_string=i\n",
        "print(\"the shortest string is\",shortest_string)"
      ],
      "metadata": {
        "colab": {
          "base_uri": "https://localhost:8080/"
        },
        "id": "j27vfxz6AF-X",
        "outputId": "f3bf98bb-193b-4cda-98ca-23ec1930bfca"
      },
      "execution_count": null,
      "outputs": [
        {
          "output_type": "stream",
          "name": "stdout",
          "text": [
            "the shortest string is rajput\n"
          ]
        }
      ]
    },
    {
      "cell_type": "markdown",
      "source": [
        "48. Create a list of the first `n` triangular numbers."
      ],
      "metadata": {
        "id": "bRFypY3tAyHB"
      }
    },
    {
      "cell_type": "code",
      "source": [
        "# Function to calculate triangular numbers\n",
        "def triangular_numbers(n):\n",
        "    return [i * (i + 1) // 2 for i in range(1, n + 1)]\n",
        "\n",
        "# Specify the value of n\n",
        "n = 5\n",
        "\n",
        "# Create a list of the first n triangular numbers\n",
        "triangular_list = triangular_numbers(n)\n",
        "\n",
        "# Print the list of triangular numbers\n",
        "print(\"List of the first\", n, \"triangular numbers:\", triangular_list)"
      ],
      "metadata": {
        "id": "LEbkY6JWvjcT",
        "colab": {
          "base_uri": "https://localhost:8080/"
        },
        "outputId": "4398de85-8d8b-4a5c-b7b9-0288581d7bc0"
      },
      "execution_count": null,
      "outputs": [
        {
          "output_type": "stream",
          "name": "stdout",
          "text": [
            "List of the first 5 triangular numbers: [1, 3, 6, 10, 15]\n"
          ]
        }
      ]
    },
    {
      "cell_type": "markdown",
      "source": [
        "49. Check if a list contains another list as a subsequence"
      ],
      "metadata": {
        "id": "rn_qkQOoBEAp"
      }
    },
    {
      "cell_type": "code",
      "source": [
        "# Function to check if a list contains another list as a subsequence\n",
        "def is_subsequence(subsequence, main_list):\n",
        "    subseq_index = 0  # Index for the subsequence elements\n",
        "    for element in main_list:\n",
        "        if element == subsequence[subseq_index]:\n",
        "            subseq_index += 1\n",
        "            if subseq_index == len(subsequence):\n",
        "                return True\n",
        "    return False\n",
        "\n",
        "# Example main list and subsequence\n",
        "main_list = [1, 2, 3, 4, 5, 6, 7, 8, 9, 10]\n",
        "subsequence = [3, 5, 8]\n",
        "\n",
        "# Check if the main list contains the subsequence\n",
        "if is_subsequence(subsequence, main_list):\n",
        "    print(\"Main list contains the subsequence.\")\n",
        "else:\n",
        "    print(\"Main list does not contain the subsequence.\")"
      ],
      "metadata": {
        "colab": {
          "base_uri": "https://localhost:8080/"
        },
        "id": "sokS8YVGBI9U",
        "outputId": "98c4ef74-3fbf-460d-c9f9-a42617ef5538"
      },
      "execution_count": null,
      "outputs": [
        {
          "output_type": "stream",
          "name": "stdout",
          "text": [
            "Main list contains the subsequence.\n"
          ]
        }
      ]
    },
    {
      "cell_type": "markdown",
      "source": [
        "50. Swap two elements in a list by their indices"
      ],
      "metadata": {
        "id": "aej4zovBBPio"
      }
    },
    {
      "cell_type": "code",
      "source": [
        "# Example list\n",
        "my_list = [1, 2, 3, 4, 5]\n",
        "\n",
        "# Indices of elements to swap\n",
        "index1 = 1\n",
        "index2 = 3\n",
        "\n",
        "# Swap the elements at the specified indices\n",
        "temp = my_list[index1]\n",
        "my_list[index1] = my_list[index2]\n",
        "my_list[index2] = temp\n",
        "\n",
        "# Print the list after swapping\n",
        "print(\"List after swapping elements:\", my_list)"
      ],
      "metadata": {
        "colab": {
          "base_uri": "https://localhost:8080/"
        },
        "id": "3QCk8e0JBS-d",
        "outputId": "4293b907-1bc9-4926-890d-bdc22ed78ed9"
      },
      "execution_count": null,
      "outputs": [
        {
          "output_type": "stream",
          "name": "stdout",
          "text": [
            "List after swapping elements: [1, 4, 3, 2, 5]\n"
          ]
        }
      ]
    },
    {
      "cell_type": "markdown",
      "source": [
        "1. Create a tuple with integers from 1 to 5"
      ],
      "metadata": {
        "id": "GOsg0PnRXxQp"
      }
    },
    {
      "cell_type": "markdown",
      "source": [
        "##Tuple Based Practice Problem :\n",
        "----"
      ],
      "metadata": {
        "id": "V8fgfeZqBjZ6"
      }
    },
    {
      "cell_type": "markdown",
      "source": [
        "1. Create a tuple with integers from 1 to 5.\n"
      ],
      "metadata": {
        "id": "vo4dEINLBrtm"
      }
    },
    {
      "cell_type": "code",
      "source": [
        "t=(1,2,3,4,5)\n"
      ],
      "metadata": {
        "id": "uaHWgO3_XvhN"
      },
      "execution_count": null,
      "outputs": []
    },
    {
      "cell_type": "markdown",
      "source": [
        "2. Access the third element of a tuple"
      ],
      "metadata": {
        "id": "cKi5RYouX8A1"
      }
    },
    {
      "cell_type": "code",
      "source": [
        "# define a tuple\n",
        "t1=(1,\"anshi\",152.36,True)\n",
        "#find third element using idex\n",
        "t1[2]"
      ],
      "metadata": {
        "colab": {
          "base_uri": "https://localhost:8080/"
        },
        "id": "f_Eejg7_X_Kt",
        "outputId": "fb577721-7603-485b-ff7e-3fa2ee885a17"
      },
      "execution_count": null,
      "outputs": [
        {
          "output_type": "execute_result",
          "data": {
            "text/plain": [
              "152.36"
            ]
          },
          "metadata": {},
          "execution_count": 8
        }
      ]
    },
    {
      "cell_type": "markdown",
      "source": [
        "3. Find the length of a tuple without using the `len()` function.\n"
      ],
      "metadata": {
        "id": "Y_H8BBF9ZIpx"
      }
    },
    {
      "cell_type": "code",
      "source": [
        "t1=(1,\"anshi\",152.36,True)\n",
        "count=0\n",
        "for i in t1:\n",
        "  count+=1\n",
        "print(\" the length of the tuple is\",count)"
      ],
      "metadata": {
        "id": "C3lWLuqeZjj7",
        "colab": {
          "base_uri": "https://localhost:8080/"
        },
        "outputId": "60a588ac-1f48-4762-f2aa-243aaaa9f3d0"
      },
      "execution_count": null,
      "outputs": [
        {
          "output_type": "stream",
          "name": "stdout",
          "text": [
            " the length of the tuple is 4\n"
          ]
        }
      ]
    },
    {
      "cell_type": "markdown",
      "source": [
        "4. Count the occurrences of an element in a tuple"
      ],
      "metadata": {
        "id": "4owl_eQvaBmw"
      }
    },
    {
      "cell_type": "code",
      "source": [
        "# define a tuple\n",
        "t2=(12,15,12,16,12,18,19)\n",
        "# count the occurence of element\n",
        "count=t2.count(12)\n",
        "# print the occurence of element\n",
        "print(count)"
      ],
      "metadata": {
        "colab": {
          "base_uri": "https://localhost:8080/"
        },
        "id": "tKzqxG2eaJD-",
        "outputId": "cd57975c-6924-4655-e94a-2f12d8fe977b"
      },
      "execution_count": null,
      "outputs": [
        {
          "output_type": "stream",
          "name": "stdout",
          "text": [
            "3\n"
          ]
        }
      ]
    },
    {
      "cell_type": "markdown",
      "source": [
        "5. Find the index of the first occurrence of an element in a tuple.\n"
      ],
      "metadata": {
        "id": "IGlg9otLbG00"
      }
    },
    {
      "cell_type": "code",
      "source": [
        "# define a tuple\n",
        "t2=(12,15,12,16,12,18,19)\n",
        "# use index function to find first occurence\n",
        "index=t2.index(12)\n",
        "#print the first occurence\n",
        "print(index)"
      ],
      "metadata": {
        "colab": {
          "base_uri": "https://localhost:8080/"
        },
        "id": "d8JDpDRhbH4N",
        "outputId": "40fc4957-9fac-4f5b-aa1f-3f0c441227a6"
      },
      "execution_count": null,
      "outputs": [
        {
          "output_type": "stream",
          "name": "stdout",
          "text": [
            "0\n"
          ]
        }
      ]
    },
    {
      "cell_type": "code",
      "source": [],
      "metadata": {
        "id": "AUn3E_t-bcz9"
      },
      "execution_count": null,
      "outputs": []
    },
    {
      "cell_type": "markdown",
      "source": [
        "6. Check if an element exists in a tuple.\n"
      ],
      "metadata": {
        "id": "ycmrUKI7flSW"
      }
    },
    {
      "cell_type": "code",
      "source": [
        "# define a tuple\n",
        "t3=(1,2,3,4,5,6,7)\n",
        "if 2 in t3:\n",
        "  print(\"element exists in tuple\")\n",
        "else:\n",
        "  print(\"element does not exists in tuple\")"
      ],
      "metadata": {
        "colab": {
          "base_uri": "https://localhost:8080/"
        },
        "id": "29ELa5Vofo4H",
        "outputId": "46a67f93-701d-4ba8-e75c-3205bb356438"
      },
      "execution_count": null,
      "outputs": [
        {
          "output_type": "stream",
          "name": "stdout",
          "text": [
            "element exists in tuple\n"
          ]
        }
      ]
    },
    {
      "cell_type": "markdown",
      "source": [
        "7. Convert a tuple to a list"
      ],
      "metadata": {
        "id": "bcTMdRrShAbj"
      }
    },
    {
      "cell_type": "code",
      "source": [
        "# define a tuple\n",
        "t4=(\"pw\",\"skills\",True)\n",
        "# change the type to list\n",
        "list=[i for i in t4]\n",
        "print(list)"
      ],
      "metadata": {
        "colab": {
          "base_uri": "https://localhost:8080/"
        },
        "id": "reWDMl-YhBMI",
        "outputId": "9a3f822d-ba58-4850-ab2d-bac32fdf8103"
      },
      "execution_count": null,
      "outputs": [
        {
          "output_type": "stream",
          "name": "stdout",
          "text": [
            "['pw', 'skills', True]\n"
          ]
        }
      ]
    },
    {
      "cell_type": "markdown",
      "source": [
        "8. Convert a list to a tuple."
      ],
      "metadata": {
        "id": "6Y-10NDyhltL"
      }
    },
    {
      "cell_type": "code",
      "source": [
        "# define a list\n",
        "t5=['pw', 'skills', 15, True]\n",
        "# change the type to tuple\n",
        "tuple(t5)"
      ],
      "metadata": {
        "id": "dpjEQW6chmmW",
        "colab": {
          "base_uri": "https://localhost:8080/"
        },
        "outputId": "418d0b22-07b2-4446-e42a-115ceecb0e68"
      },
      "execution_count": null,
      "outputs": [
        {
          "output_type": "execute_result",
          "data": {
            "text/plain": [
              "('pw', 'skills', 15, True)"
            ]
          },
          "metadata": {},
          "execution_count": 15
        }
      ]
    },
    {
      "cell_type": "markdown",
      "source": [
        "9. Unpack the elements of a tuple into variables.\n"
      ],
      "metadata": {
        "id": "I4khRgSqiE6D"
      }
    },
    {
      "cell_type": "code",
      "source": [
        "my_tuple = (1, 2, 3)\n",
        "\n",
        "# Unpack the elements into variables\n",
        "a, b, c = my_tuple\n",
        "\n",
        "# Now, a, b, and c hold the values from the tuple\n",
        "print(\"a:\", a)\n",
        "print(\"b:\", b)\n",
        "print(\"c:\", c)\n"
      ],
      "metadata": {
        "id": "9Lp4CjHCiFqC",
        "colab": {
          "base_uri": "https://localhost:8080/"
        },
        "outputId": "1c6d8270-0810-4a41-fe65-21594f96cf15"
      },
      "execution_count": null,
      "outputs": [
        {
          "output_type": "stream",
          "name": "stdout",
          "text": [
            "a: 1\n",
            "b: 2\n",
            "c: 3\n"
          ]
        }
      ]
    },
    {
      "cell_type": "markdown",
      "source": [
        "10. Create a tuple of even numbers from 1 to 10"
      ],
      "metadata": {
        "id": "qVKn6hOTmoxc"
      }
    },
    {
      "cell_type": "code",
      "source": [
        "# define a empty list\n",
        "my_list=[]\n",
        "# define the condition using for and if function\n",
        "for i in range(0,11):\n",
        "  if i%2==0:\n",
        "    my_list.append(i)\n",
        "# change the type to tuple\n",
        "print(tuple(my_list))"
      ],
      "metadata": {
        "id": "24EZ3QxXmO53",
        "colab": {
          "base_uri": "https://localhost:8080/"
        },
        "outputId": "1db011ff-dac4-48a9-af52-60111b039312"
      },
      "execution_count": null,
      "outputs": [
        {
          "output_type": "stream",
          "name": "stdout",
          "text": [
            "(0, 2, 4, 6, 8, 10)\n"
          ]
        }
      ]
    },
    {
      "cell_type": "markdown",
      "source": [
        "11. Create a tuple of odd numbers from 1 to 10"
      ],
      "metadata": {
        "id": "kW8ielcHpoe_"
      }
    },
    {
      "cell_type": "code",
      "source": [
        "# define a empty list\n",
        "list=[]\n",
        "# define the condition using for and if function\n",
        "for i in range(0,11):\n",
        "  if i%2!=0:\n",
        "    list.append(i)\n",
        "# change the type to tuple\n",
        "t=tuple(list)\n",
        "print(t)"
      ],
      "metadata": {
        "id": "M2Dqv6G-oBr7",
        "colab": {
          "base_uri": "https://localhost:8080/"
        },
        "outputId": "5e59f81f-39ec-4199-acab-d2afed579469"
      },
      "execution_count": null,
      "outputs": [
        {
          "output_type": "stream",
          "name": "stdout",
          "text": [
            "(1, 3, 5, 7, 9)\n"
          ]
        }
      ]
    },
    {
      "cell_type": "markdown",
      "source": [
        "12. Concatenate two tuples."
      ],
      "metadata": {
        "id": "fxjHCewTqRQH"
      }
    },
    {
      "cell_type": "code",
      "source": [
        "# define two tuples\n",
        "t1=(1,2,3,4,5,6,7)\n",
        "t2=(10,11,13,14,15)\n",
        "#concatenate both tuples\n",
        "t3= t1+t2\n",
        "print(t3)"
      ],
      "metadata": {
        "id": "y-ChHrs7qR6S",
        "colab": {
          "base_uri": "https://localhost:8080/"
        },
        "outputId": "0023fba6-c1e1-4887-9a68-8003e6c4ec59"
      },
      "execution_count": null,
      "outputs": [
        {
          "output_type": "stream",
          "name": "stdout",
          "text": [
            "(1, 2, 3, 4, 5, 6, 7, 10, 11, 13, 14, 15)\n"
          ]
        }
      ]
    },
    {
      "cell_type": "markdown",
      "source": [
        "13. Repeat a tuple three times"
      ],
      "metadata": {
        "id": "ouQ5AC1sr_gg"
      }
    },
    {
      "cell_type": "code",
      "source": [
        "# define a tuple\n",
        "t4=(5,6,9,8,7)\n",
        "# repeat tuple three times\n",
        "t4*3"
      ],
      "metadata": {
        "id": "ygWdyylRsANX",
        "colab": {
          "base_uri": "https://localhost:8080/"
        },
        "outputId": "5ca2b770-f28d-4579-b7e7-3f1e5c4b46e4"
      },
      "execution_count": null,
      "outputs": [
        {
          "output_type": "execute_result",
          "data": {
            "text/plain": [
              "(5, 6, 9, 8, 7, 5, 6, 9, 8, 7, 5, 6, 9, 8, 7)"
            ]
          },
          "metadata": {},
          "execution_count": 36
        }
      ]
    },
    {
      "cell_type": "markdown",
      "source": [
        "14. Check if a tuple is empty.\n"
      ],
      "metadata": {
        "id": "vmnvxgaHspxI"
      }
    },
    {
      "cell_type": "code",
      "source": [
        "# define a empty tuple\n",
        "t7=()\n",
        "# Check if the tuple is empty\n",
        "if len(t7)==0:\n",
        "  print(\"the tuple is empty\")\n",
        "else:\n",
        "  print(\"the tuple is not empty\")"
      ],
      "metadata": {
        "id": "O5X0Xba5sqiy",
        "colab": {
          "base_uri": "https://localhost:8080/"
        },
        "outputId": "65915023-dd57-428a-e62a-5875dec6a8d1"
      },
      "execution_count": null,
      "outputs": [
        {
          "output_type": "stream",
          "name": "stdout",
          "text": [
            "the tuple is empty\n"
          ]
        }
      ]
    },
    {
      "cell_type": "code",
      "source": [
        "t7=((1,2),(3,4),5,6)\n"
      ],
      "metadata": {
        "id": "KVKSM2Niub3B"
      },
      "execution_count": null,
      "outputs": []
    },
    {
      "cell_type": "markdown",
      "source": [
        "16. Access the first element of a nested tuple.\n"
      ],
      "metadata": {
        "id": "W3s7nMmSu1OK"
      }
    },
    {
      "cell_type": "code",
      "source": [
        "t7=((1,2),(3,4),5,6)\n",
        "#access the first element\n",
        "t7[0]\n",
        "#print the first element\n",
        "print(t7[0])"
      ],
      "metadata": {
        "id": "IffC9Whnu2AX",
        "colab": {
          "base_uri": "https://localhost:8080/"
        },
        "outputId": "18fb5694-3cf2-4011-920a-ebcad62bc940"
      },
      "execution_count": null,
      "outputs": [
        {
          "output_type": "stream",
          "name": "stdout",
          "text": [
            "(1, 2)\n"
          ]
        }
      ]
    },
    {
      "cell_type": "markdown",
      "source": [
        "17. Create a tuple with a single element.\n"
      ],
      "metadata": {
        "id": "YlPTDfbHvpUR"
      }
    },
    {
      "cell_type": "code",
      "source": [
        "#tuple with single element\n",
        "t=(1,)"
      ],
      "metadata": {
        "id": "_eZiCLEQvqHd"
      },
      "execution_count": null,
      "outputs": []
    },
    {
      "cell_type": "markdown",
      "source": [
        "18. Compare two tuples."
      ],
      "metadata": {
        "id": "TcSnPP1xyM1v"
      }
    },
    {
      "cell_type": "code",
      "source": [
        "# define two tuple\n",
        "tuple1=(1,2,3,4,5)\n",
        "tuple2=(1,2,3,4,6)\n",
        "# compare two tuples\n",
        "if tuple1< tuple2:\n",
        "  print(\"tuple 2 is greater\")\n",
        "elif tuple1>tuple2:\n",
        "  print(\"tuple  1 is greater\")\n",
        "else:\n",
        "  print(\"tuples are equal\")"
      ],
      "metadata": {
        "id": "RTlz6o_ryNqM",
        "colab": {
          "base_uri": "https://localhost:8080/"
        },
        "outputId": "32826592-24f4-4d39-86f9-612cc1d3dec1"
      },
      "execution_count": null,
      "outputs": [
        {
          "output_type": "stream",
          "name": "stdout",
          "text": [
            "tuple 2 is greater\n"
          ]
        }
      ]
    },
    {
      "cell_type": "markdown",
      "source": [
        "19. Delete a tuple"
      ],
      "metadata": {
        "id": "GzioTtIz5BIN"
      }
    },
    {
      "cell_type": "code",
      "source": [
        "# define a tuple\n",
        "t=(4,5,6)\n",
        "#delete tuple\n",
        "del(t)"
      ],
      "metadata": {
        "id": "IDq4xzyA5By0"
      },
      "execution_count": null,
      "outputs": []
    },
    {
      "cell_type": "markdown",
      "source": [
        "20. Slice a tuple."
      ],
      "metadata": {
        "id": "wiP2dQWdspFz"
      }
    },
    {
      "cell_type": "code",
      "source": [
        "# define a tuple\n",
        "t1=(9,8,7,6,5,4,3,2,1)\n",
        "#slice the tuple\n",
        "t1[1:5]"
      ],
      "metadata": {
        "id": "g6F_BXu3sp8e",
        "colab": {
          "base_uri": "https://localhost:8080/"
        },
        "outputId": "d021a460-2d0e-434b-9ff8-2cc882aa88ab"
      },
      "execution_count": null,
      "outputs": [
        {
          "output_type": "execute_result",
          "data": {
            "text/plain": [
              "(8, 7, 6, 5)"
            ]
          },
          "metadata": {},
          "execution_count": 41
        }
      ]
    },
    {
      "cell_type": "markdown",
      "source": [
        "21. Find the maximum value in a tuple"
      ],
      "metadata": {
        "id": "M-c44JBFtm24"
      }
    },
    {
      "cell_type": "code",
      "source": [
        "# define a tuple\n",
        "t2=(12,1,5,18,16)\n",
        "#find maximum value\n",
        "max(t2)"
      ],
      "metadata": {
        "id": "NsMVMAUhtnyn",
        "colab": {
          "base_uri": "https://localhost:8080/"
        },
        "outputId": "b36d6401-70ea-4f98-8a14-a86f74b1a90b"
      },
      "execution_count": null,
      "outputs": [
        {
          "output_type": "execute_result",
          "data": {
            "text/plain": [
              "18"
            ]
          },
          "metadata": {},
          "execution_count": 42
        }
      ]
    },
    {
      "cell_type": "markdown",
      "source": [
        "22. Find the minimum value in a tuple."
      ],
      "metadata": {
        "id": "ZfU79HVWuEBN"
      }
    },
    {
      "cell_type": "code",
      "source": [
        "# define a tuple\n",
        "t3=(7,8,9,1,5,4,6)\n",
        "# find the minimum value\n",
        "min(t3)\n"
      ],
      "metadata": {
        "id": "c65a9Yh6uFB4",
        "colab": {
          "base_uri": "https://localhost:8080/"
        },
        "outputId": "9bdc88e7-e5b7-46ca-e94d-78e9f32f7500"
      },
      "execution_count": null,
      "outputs": [
        {
          "output_type": "execute_result",
          "data": {
            "text/plain": [
              "1"
            ]
          },
          "metadata": {},
          "execution_count": 43
        }
      ]
    },
    {
      "cell_type": "markdown",
      "source": [
        "23. Convert a string to a tuple of characters"
      ],
      "metadata": {
        "id": "_hB-AFMUugQp"
      }
    },
    {
      "cell_type": "code",
      "source": [
        "# define a string\n",
        "s=\"hello everyone\"\n",
        "# convert the string to tuple\n",
        "tuple(s)\n"
      ],
      "metadata": {
        "id": "QxHDfLwkuhCJ",
        "colab": {
          "base_uri": "https://localhost:8080/"
        },
        "outputId": "62c8d5b5-452d-46ef-e59a-611df91b59c7"
      },
      "execution_count": null,
      "outputs": [
        {
          "output_type": "execute_result",
          "data": {
            "text/plain": [
              "('h', 'e', 'l', 'l', 'o', ' ', 'e', 'v', 'e', 'r', 'y', 'o', 'n', 'e')"
            ]
          },
          "metadata": {},
          "execution_count": 7
        }
      ]
    },
    {
      "cell_type": "markdown",
      "source": [
        "24. Convert a tuple of characters to a string.\n"
      ],
      "metadata": {
        "id": "BiJxy3C9vSFe"
      }
    },
    {
      "cell_type": "code",
      "source": [
        "# define  a tuple\n",
        "t=('p','w','s','k','i','l','l','s')\n",
        "# convert the tuple to string\n",
        "str(t)"
      ],
      "metadata": {
        "id": "kttD8TCyvS-a",
        "colab": {
          "base_uri": "https://localhost:8080/",
          "height": 36
        },
        "outputId": "fc160429-e8cf-4550-d693-383179127841"
      },
      "execution_count": null,
      "outputs": [
        {
          "output_type": "execute_result",
          "data": {
            "text/plain": [
              "\"('p', 'w', 's', 'k', 'i', 'l', 'l', 's')\""
            ],
            "application/vnd.google.colaboratory.intrinsic+json": {
              "type": "string"
            }
          },
          "metadata": {},
          "execution_count": 45
        }
      ]
    },
    {
      "cell_type": "markdown",
      "source": [
        "25. Create a tuple from multiple data types.\n"
      ],
      "metadata": {
        "id": "Ox8hN_OcvxF7"
      }
    },
    {
      "cell_type": "code",
      "source": [
        "t4=(\"hello\",12,True,15.98)\n",
        "print(t4)"
      ],
      "metadata": {
        "id": "eAAXlNZ9vx68",
        "colab": {
          "base_uri": "https://localhost:8080/"
        },
        "outputId": "56633f33-e974-4ace-cf2f-98c41b5bed10"
      },
      "execution_count": null,
      "outputs": [
        {
          "output_type": "stream",
          "name": "stdout",
          "text": [
            "('hello', 12, True, 15.98)\n"
          ]
        }
      ]
    },
    {
      "cell_type": "markdown",
      "source": [
        "26. Check if two tuples are identical.\n"
      ],
      "metadata": {
        "id": "MP1zHx1LwB5m"
      }
    },
    {
      "cell_type": "code",
      "source": [
        "# define two tuples\n",
        "t1=(1,2,3,4,5)\n",
        "t2=(1,2,3,4,6)\n",
        "# compare both  tuple\n",
        "if t1==t2:\n",
        "  print(\"tupels are identical\")\n",
        "else:\n",
        "  print(\"tupels are not identical\")"
      ],
      "metadata": {
        "id": "YrYn5thlwCmW",
        "colab": {
          "base_uri": "https://localhost:8080/"
        },
        "outputId": "297a7d4d-c511-4963-895b-48481beae71c"
      },
      "execution_count": null,
      "outputs": [
        {
          "output_type": "stream",
          "name": "stdout",
          "text": [
            "tupels are not identical\n"
          ]
        }
      ]
    },
    {
      "cell_type": "markdown",
      "source": [
        "27. Sort the elements of a tuple.\n"
      ],
      "metadata": {
        "id": "aSSA5gZWzoXn"
      }
    },
    {
      "cell_type": "code",
      "source": [
        "t5=(15,48,12,1,6,20)\n",
        "sorted(t5)"
      ],
      "metadata": {
        "id": "HXxqrX2vzo9M",
        "colab": {
          "base_uri": "https://localhost:8080/"
        },
        "outputId": "44541e45-1337-4d0b-bbf6-2d415f6c444c"
      },
      "execution_count": null,
      "outputs": [
        {
          "output_type": "execute_result",
          "data": {
            "text/plain": [
              "[1, 6, 12, 15, 20, 48]"
            ]
          },
          "metadata": {},
          "execution_count": 49
        }
      ]
    },
    {
      "cell_type": "markdown",
      "source": [
        "28. Convert a tuple of integers to a tuple of strings.\n"
      ],
      "metadata": {
        "id": "7_d5Vow202Uk"
      }
    },
    {
      "cell_type": "code",
      "source": [
        "# define a tuple of integers\n",
        "t=(1,2,3,4,5)\n",
        "#convert it to tuple of strings\n",
        "str(t)"
      ],
      "metadata": {
        "id": "XU9KeJ0k0FCF",
        "colab": {
          "base_uri": "https://localhost:8080/",
          "height": 36
        },
        "outputId": "0a36413a-bcd2-4598-97d3-c20a273069fe"
      },
      "execution_count": null,
      "outputs": [
        {
          "output_type": "execute_result",
          "data": {
            "text/plain": [
              "'(1, 2, 3, 4, 5)'"
            ],
            "application/vnd.google.colaboratory.intrinsic+json": {
              "type": "string"
            }
          },
          "metadata": {},
          "execution_count": 50
        }
      ]
    },
    {
      "cell_type": "markdown",
      "source": [
        "29. Convert a tuple of strings to a tuple of integers.\n"
      ],
      "metadata": {
        "id": "8TwtXpxGJNrK"
      }
    },
    {
      "cell_type": "code",
      "source": [
        "# define a tuple of strings\n",
        "t1=('1','2','3')\n",
        "t2=()\n",
        "if s in t1:\n",
        "  t2+=(int(s))\n",
        "print(t1)"
      ],
      "metadata": {
        "id": "NK53VzxBJObV",
        "colab": {
          "base_uri": "https://localhost:8080/"
        },
        "outputId": "66026c37-1ee2-4fcd-e03a-ced72f4f1b17"
      },
      "execution_count": null,
      "outputs": [
        {
          "output_type": "stream",
          "name": "stdout",
          "text": [
            "('1', '2', '3')\n"
          ]
        }
      ]
    },
    {
      "cell_type": "markdown",
      "source": [
        "30. Merge two tuples.\n"
      ],
      "metadata": {
        "id": "3zJR4_Q9LFvT"
      }
    },
    {
      "cell_type": "code",
      "source": [
        "# define two tuples\n",
        "t1=(9,8,7,6,5)\n",
        "t2=(4,3,2,1)\n",
        "# merge both tuples\n",
        "merged_tuple=t1+t2\n",
        "#print  the merged tuple\n",
        "print(merged_tuple)"
      ],
      "metadata": {
        "id": "0WxdQTnZJlH3",
        "colab": {
          "base_uri": "https://localhost:8080/"
        },
        "outputId": "cf8a7100-7cf1-4dfc-bda0-9b89647eef7d"
      },
      "execution_count": null,
      "outputs": [
        {
          "output_type": "stream",
          "name": "stdout",
          "text": [
            "(9, 8, 7, 6, 5, 4, 3, 2, 1)\n"
          ]
        }
      ]
    },
    {
      "cell_type": "markdown",
      "source": [
        "31. Flatten a nested tuple."
      ],
      "metadata": {
        "id": "SVJIRGz1CcdR"
      }
    },
    {
      "cell_type": "code",
      "source": [
        "# Recursive function to flatten a nested tuple\n",
        "def flatten_tuple(nested_tuple):\n",
        "    flattened = []\n",
        "    for item in nested_tuple:\n",
        "        if isinstance(item, tuple):\n",
        "            flattened.extend(flatten_tuple(item))\n",
        "        else:\n",
        "            flattened.append(item)\n",
        "    return flattened\n",
        "\n",
        "# Step 1: Create a nested tuple\n",
        "nested_tuple = ((1, 2), (3, 4, 5), (6, (7, 8)))\n",
        "\n",
        "# Step 2: Flatten the nested tuple\n",
        "flattened_tuple = tuple(flatten_tuple(nested_tuple))\n",
        "\n",
        "# Step 3: Print the flattened tuple\n",
        "print(\"Flattened tuple:\", flattened_tuple)"
      ],
      "metadata": {
        "id": "uWhlJAQCCdh1"
      },
      "execution_count": null,
      "outputs": []
    },
    {
      "cell_type": "markdown",
      "source": [
        "32. Create a tuple of the first 5 prime numbers."
      ],
      "metadata": {
        "id": "7GzQuBPPPM0U"
      }
    },
    {
      "cell_type": "code",
      "source": [
        "#tuple of first 5 prime number\n",
        "# Function to check if a number is prime\n",
        "def is_prime(num):\n",
        "    if num <= 1:\n",
        "        return False\n",
        "    for i in range(2, int(num ** 0.5) + 1):\n",
        "        if num % i == 0:\n",
        "            return False\n",
        "    return True\n",
        "\n",
        "# Generate the first 5 prime numbers\n",
        "prime_numbers_list = [num for num in range(2, 100) if is_prime(num)][:5]\n",
        "\n",
        "# Convert the list to a tuple\n",
        "prime_numbers_tuple = tuple(prime_numbers_list)\n",
        "\n",
        "# Print the tuple of prime numbers\n",
        "print(\"Tuple of the first 5 prime numbers:\", prime_numbers_tuple)"
      ],
      "metadata": {
        "id": "nfkTIlX5PfVd",
        "colab": {
          "base_uri": "https://localhost:8080/"
        },
        "outputId": "f8b72cac-286a-4d5c-f37f-257c475b9942"
      },
      "execution_count": null,
      "outputs": [
        {
          "output_type": "stream",
          "name": "stdout",
          "text": [
            "Tuple of the first 5 prime numbers: (2, 3, 5, 7, 11)\n"
          ]
        }
      ]
    },
    {
      "cell_type": "markdown",
      "source": [
        "33. Check if a tuple is a palindrome."
      ],
      "metadata": {
        "id": "YllcHOK4XVmy"
      }
    },
    {
      "cell_type": "code",
      "source": [
        "# define a tuple\n",
        "t1=(1,2,3,4,5)\n",
        "\n",
        "# check whether it is palindrome or not\n",
        "if t1==t1[::-1]:\n",
        "  print('tuple is palindrome')\n",
        "else:\n",
        "  print('tuple is not palindrome')"
      ],
      "metadata": {
        "id": "WyWHgGncXWeP",
        "colab": {
          "base_uri": "https://localhost:8080/"
        },
        "outputId": "25e1df78-7508-4d0d-e3a8-0cbbb9fcb961"
      },
      "execution_count": null,
      "outputs": [
        {
          "output_type": "stream",
          "name": "stdout",
          "text": [
            "tuple is not palindrome\n"
          ]
        }
      ]
    },
    {
      "cell_type": "markdown",
      "source": [
        "34. Create a tuple of squares of numbers from 1 to 5"
      ],
      "metadata": {
        "id": "TWARgr37fzz0"
      }
    },
    {
      "cell_type": "code",
      "source": [
        "# define a list for squares\n",
        "square_list=[i**2 for i in range(0,6)]\n",
        "# change the list to tuple\n",
        "square_tuple=tuple(square_list)\n",
        "# print the square tuple\n",
        "print(square_tuple)\n",
        "\n",
        "\n"
      ],
      "metadata": {
        "id": "ODGpg1cNf2cH",
        "colab": {
          "base_uri": "https://localhost:8080/"
        },
        "outputId": "6d894fdd-705a-44bc-9254-4e920f914cf6"
      },
      "execution_count": null,
      "outputs": [
        {
          "output_type": "stream",
          "name": "stdout",
          "text": [
            "(0, 1, 4, 9, 16, 25)\n"
          ]
        }
      ]
    },
    {
      "cell_type": "markdown",
      "source": [
        "35. Filter out all even numbers from a tuple."
      ],
      "metadata": {
        "id": "tJ4lm9lZ6XMJ"
      }
    },
    {
      "cell_type": "code",
      "source": [
        "# define a tuple\n",
        "t=(10,11,12,13,14,15,16,17,18)\n",
        "#give the condition for even numbers\n",
        "for i in t:\n",
        "  if i%2==0:\n",
        "#print even numbers\n",
        "    print(i)"
      ],
      "metadata": {
        "id": "cUOntKEI6YTe",
        "colab": {
          "base_uri": "https://localhost:8080/"
        },
        "outputId": "f486575b-8d03-4e0d-a7ac-248cf55dbbec"
      },
      "execution_count": null,
      "outputs": [
        {
          "output_type": "stream",
          "name": "stdout",
          "text": [
            "10\n",
            "12\n",
            "14\n",
            "16\n",
            "18\n"
          ]
        }
      ]
    },
    {
      "cell_type": "markdown",
      "source": [
        "36. Multiply all elements in a tuple by 2"
      ],
      "metadata": {
        "id": "orNArUQg7VIH"
      }
    },
    {
      "cell_type": "code",
      "source": [
        "#define a tuple\n",
        "t=(2,5,3,9,4,8)\n",
        "for i in t:\n",
        "  print(i*2, end=' ')\n"
      ],
      "metadata": {
        "id": "jJy-1N3u7Vzx",
        "colab": {
          "base_uri": "https://localhost:8080/"
        },
        "outputId": "1c2981e0-bd62-4c5b-f190-f626aad0aac8"
      },
      "execution_count": null,
      "outputs": [
        {
          "output_type": "stream",
          "name": "stdout",
          "text": [
            "4 10 6 18 8 16 "
          ]
        }
      ]
    },
    {
      "cell_type": "markdown",
      "source": [
        "37. Create a tuple of random numbers."
      ],
      "metadata": {
        "id": "Z6z4gT7S8cO3"
      }
    },
    {
      "cell_type": "code",
      "source": [
        "import random\n",
        "random_tuple = tuple(random.randint(1, 100) for _ in range(10))\n",
        "print(\"the random numbers are\",random_tuple)"
      ],
      "metadata": {
        "id": "JajyBqw07np5",
        "colab": {
          "base_uri": "https://localhost:8080/"
        },
        "outputId": "f65aabd0-57b4-410c-94c4-94ad3e8169c7"
      },
      "execution_count": null,
      "outputs": [
        {
          "output_type": "stream",
          "name": "stdout",
          "text": [
            "the random numbers are (79, 73, 28, 48, 5, 29, 74, 47, 48, 41)\n"
          ]
        }
      ]
    },
    {
      "cell_type": "markdown",
      "source": [
        "38. Check if a tuple is sorted."
      ],
      "metadata": {
        "id": "ydvvnljs8kAo"
      }
    },
    {
      "cell_type": "code",
      "source": [
        "def is_sorted(tup):\n",
        "    return tup == tuple(sorted(tup))\n",
        "\n",
        "# Example usage:\n",
        "my_tuple = (1, 2, 3, 4, 5)\n",
        "result = is_sorted(my_tuple)\n",
        "\n",
        "if result:\n",
        "    print(\"The tuple is sorted.\")\n",
        "else:\n",
        "    print(\"The tuple is not sorted.\")\n"
      ],
      "metadata": {
        "id": "k8a1ZJnu8nb9",
        "colab": {
          "base_uri": "https://localhost:8080/"
        },
        "outputId": "17785227-ec99-405f-871e-df9d3dadc061"
      },
      "execution_count": null,
      "outputs": [
        {
          "output_type": "stream",
          "name": "stdout",
          "text": [
            "The tuple is sorted.\n"
          ]
        }
      ]
    },
    {
      "cell_type": "markdown",
      "source": [
        "39. Rotate a tuple to the left by `n` positions.\n"
      ],
      "metadata": {
        "id": "Pu8p7cS1F97R"
      }
    },
    {
      "cell_type": "code",
      "source": [
        "def rotate_tuple_left(tup, n):\n",
        "    n = n % len(tup)  # Ensure n is within the range of tuple length\n",
        "    rotated_tuple = tup[n:] + tup[:n]  # Rotate the tuple\n",
        "    return rotated_tuple\n",
        "\n",
        "# Example tuple\n",
        "my_tuple = (1, 2, 3, 4, 5)\n",
        "n_positions = 2\n",
        "result = rotate_tuple_left(my_tuple, n_positions)\n",
        "print(result)"
      ],
      "metadata": {
        "colab": {
          "base_uri": "https://localhost:8080/"
        },
        "id": "cRirMvlF8kaX",
        "outputId": "4862740e-9b9d-461b-d868-712c30296eb8"
      },
      "execution_count": 2,
      "outputs": [
        {
          "output_type": "stream",
          "name": "stdout",
          "text": [
            "(3, 4, 5, 1, 2)\n"
          ]
        }
      ]
    },
    {
      "cell_type": "markdown",
      "source": [
        "40. Rotate a tuple to the right by `n` positions.\n"
      ],
      "metadata": {
        "id": "DOJeY65AF-No"
      }
    },
    {
      "cell_type": "code",
      "source": [
        "def rotate_tuple_right(tup, n):\n",
        "    n = n % len(tup)  # Ensure n is within the range of tuple length\n",
        "    rotated_tuple = tup[-n:] + tup[:-n]  # Rotate the tuple\n",
        "    return rotated_tuple\n",
        "\n",
        "# Example tuple\n",
        "my_tuple = (1, 2, 3, 4, 5)\n",
        "n_positions = 2\n",
        "result = rotate_tuple_right(my_tuple, n_positions)\n",
        "print(result)"
      ],
      "metadata": {
        "colab": {
          "base_uri": "https://localhost:8080/"
        },
        "id": "cwTe3Dgj9MEP",
        "outputId": "2ddac8e2-b2bf-48c6-85e6-4b4636cd59f4"
      },
      "execution_count": 1,
      "outputs": [
        {
          "output_type": "stream",
          "name": "stdout",
          "text": [
            "(4, 5, 1, 2, 3)\n"
          ]
        }
      ]
    },
    {
      "cell_type": "markdown",
      "source": [],
      "metadata": {
        "id": "1ZT87y_2F-kb"
      }
    },
    {
      "cell_type": "markdown",
      "source": [
        "41. Create a tuple of the first 5 Fibonacci numbers."
      ],
      "metadata": {
        "id": "EQh4fwDjGTdi"
      }
    },
    {
      "cell_type": "code",
      "source": [
        "def generate_fibonacci(n):\n",
        "    fibonacci_numbers = [0, 1]\n",
        "    while len(fibonacci_numbers) < n:\n",
        "        next_number = fibonacci_numbers[-1] + fibonacci_numbers[-2]\n",
        "        fibonacci_numbers.append(next_number)\n",
        "    return tuple(fibonacci_numbers[:n])\n",
        "\n",
        "# Generate the first 5 Fibonacci numbers\n",
        "first_5_fibonacci = generate_fibonacci(5)\n",
        "\n",
        "print(first_5_fibonacci)\n"
      ],
      "metadata": {
        "colab": {
          "base_uri": "https://localhost:8080/"
        },
        "id": "hT7nm7qP9dmE",
        "outputId": "5a994f95-6917-4f65-9227-344bc069175c"
      },
      "execution_count": 3,
      "outputs": [
        {
          "output_type": "stream",
          "name": "stdout",
          "text": [
            "(0, 1, 1, 2, 3)\n"
          ]
        }
      ]
    },
    {
      "cell_type": "markdown",
      "source": [
        "42. Create a tuple from user input.\n"
      ],
      "metadata": {
        "id": "uvJ7nslL89ka"
      }
    },
    {
      "cell_type": "code",
      "source": [
        "#get a input from user\n",
        "a=input(\"enter a tuple\")\n",
        "print(a)"
      ],
      "metadata": {
        "id": "pTw4e0Gb9NIk",
        "colab": {
          "base_uri": "https://localhost:8080/"
        },
        "outputId": "122406d6-58b0-439d-efae-2f40a34c4adc"
      },
      "execution_count": null,
      "outputs": [
        {
          "output_type": "stream",
          "name": "stdout",
          "text": [
            "enter a tuple1,2,3,4,5\n",
            "1,2,3,4,5\n"
          ]
        }
      ]
    },
    {
      "cell_type": "markdown",
      "source": [
        "43. Swap two elements in a tuple.\n"
      ],
      "metadata": {
        "id": "YBayh7bXFkgG"
      }
    },
    {
      "cell_type": "code",
      "source": [
        "# Original tuple\n",
        "my_tuple = (1, 2, 3, 4, 5)\n",
        "\n",
        "# Indices of the elements to be swapped\n",
        "index1 = 1\n",
        "index2 = 3\n",
        "\n",
        "# Convert the tuple to a list to make modifications\n",
        "tuple_list = list(my_tuple)\n",
        "\n",
        "# Swap the elements\n",
        "tuple_list[index1], tuple_list[index2] = tuple_list[index2], tuple_list[index1]\n",
        "\n",
        "# Convert the list back to a tuple\n",
        "new_tuple = tuple(tuple_list)\n",
        "\n",
        "print(new_tuple)\n"
      ],
      "metadata": {
        "colab": {
          "base_uri": "https://localhost:8080/"
        },
        "id": "-oHYosly97xE",
        "outputId": "efde5781-d825-42b8-a838-e521b419e8a4"
      },
      "execution_count": 4,
      "outputs": [
        {
          "output_type": "stream",
          "name": "stdout",
          "text": [
            "(1, 4, 3, 2, 5)\n"
          ]
        }
      ]
    },
    {
      "cell_type": "markdown",
      "source": [],
      "metadata": {
        "id": "z7nnXhF-GodV"
      }
    },
    {
      "cell_type": "markdown",
      "source": [
        "44. Reverse the elements of a tuple"
      ],
      "metadata": {
        "id": "go7phqBK9iDn"
      }
    },
    {
      "cell_type": "code",
      "source": [
        "# define a tuple\n",
        "t=(\"anshi\",\"rajput\",18.65,18,True)\n",
        "#reverse the elements\n",
        "t1=t[::-1]\n",
        "# print the reversed tuple\n",
        "print(t1)"
      ],
      "metadata": {
        "id": "EYB2oJ-N9mWn",
        "colab": {
          "base_uri": "https://localhost:8080/"
        },
        "outputId": "aef780fc-88fc-47fb-84d9-7d069345f3ca"
      },
      "execution_count": null,
      "outputs": [
        {
          "output_type": "stream",
          "name": "stdout",
          "text": [
            "(True, 18, 18.65, 'rajput', 'anshi')\n"
          ]
        }
      ]
    },
    {
      "cell_type": "markdown",
      "source": [
        "45. Create a tuple of the first `n` powers of 2."
      ],
      "metadata": {
        "id": "25CMx6gA-Km4"
      }
    },
    {
      "cell_type": "code",
      "source": [
        "# let n=5 for range\n",
        "n=5\n",
        "power_of_2_tuple=tuple(2**i for i in range(n))\n",
        "print(power_of_2_tuple)\n"
      ],
      "metadata": {
        "id": "jjByIC2C-LVQ",
        "colab": {
          "base_uri": "https://localhost:8080/"
        },
        "outputId": "d81fa54f-782a-4358-8b70-162a2ef57175"
      },
      "execution_count": null,
      "outputs": [
        {
          "output_type": "stream",
          "name": "stdout",
          "text": [
            "(1, 2, 4, 8, 16)\n"
          ]
        }
      ]
    },
    {
      "cell_type": "markdown",
      "source": [
        "46. Find the longest string in a tuple of strings.\n"
      ],
      "metadata": {
        "id": "HvpWi9RsB_2A"
      }
    },
    {
      "cell_type": "code",
      "source": [
        "t=(\"anshi\",\"rajput\",\"pwskills\")\n",
        "longest_string = max(t, key=len)\n",
        "print(\"longest string is\",longest_string)\n"
      ],
      "metadata": {
        "id": "pAllBbNq-kr4",
        "colab": {
          "base_uri": "https://localhost:8080/"
        },
        "outputId": "f21e43f5-e2e7-4e27-fcd7-5055b50f9f9a"
      },
      "execution_count": null,
      "outputs": [
        {
          "output_type": "stream",
          "name": "stdout",
          "text": [
            "longest string is pwskills\n"
          ]
        }
      ]
    },
    {
      "cell_type": "markdown",
      "source": [
        "47. Find the shortest string in a tuple of strings.\n"
      ],
      "metadata": {
        "id": "eWR6RHogpjUG"
      }
    },
    {
      "cell_type": "code",
      "source": [
        "t=(\"anshi\",\"rajput\",\"pwskills\")\n",
        "shortest_string = min(t, key=len)\n",
        "print(\"shortest string is\",shortest_string)\n"
      ],
      "metadata": {
        "id": "IkBUCGV0HPz7",
        "colab": {
          "base_uri": "https://localhost:8080/"
        },
        "outputId": "a86b8906-b3a3-43c0-a926-cec786bf33f5"
      },
      "execution_count": null,
      "outputs": [
        {
          "output_type": "stream",
          "name": "stdout",
          "text": [
            "shortest string is anshi\n"
          ]
        }
      ]
    },
    {
      "cell_type": "markdown",
      "source": [
        "48. Create a tuple of the first `n` triangular numbers."
      ],
      "metadata": {
        "id": "OowqIOs_qKnh"
      }
    },
    {
      "cell_type": "code",
      "source": [
        "# Define the value of n\n",
        "n = 5\n",
        "\n",
        "# Create a tuple of the first n triangular numbers using a list comprehension\n",
        "triangular_numbers_tuple = tuple((i * (i + 1)) // 2 for i in range(1, n + 1))\n",
        "\n",
        "# Print the tuple of triangular numbers\n",
        "print(\"Tuple of the first\", n, \"triangular numbers:\", triangular_numbers_tuple)"
      ],
      "metadata": {
        "id": "51-XDGXPqLUH"
      },
      "execution_count": null,
      "outputs": []
    },
    {
      "cell_type": "markdown",
      "source": [
        "49. Check if a tuple contains another tuple as a subsequence.\n"
      ],
      "metadata": {
        "id": "z7oIZMRwG6_m"
      }
    },
    {
      "cell_type": "code",
      "source": [
        "# Function to check if a tuple contains another tuple as a subsequence\n",
        "def contains_subsequence(main_tuple, sub_tuple):\n",
        "    sub_length = len(sub_tuple)\n",
        "    for i in range(len(main_tuple) - sub_length + 1):\n",
        "        if main_tuple[i:i+sub_length] == sub_tuple:\n",
        "            return True\n",
        "    return False\n",
        "\n",
        "# Main tuple\n",
        "main_tuple = (1, 2, 3, 4, 5, 6, 7, 8, 9)\n",
        "\n",
        "# Subsequence tuple\n",
        "sub_tuple = (3, 4, 5)\n",
        "\n",
        "# Check if the main tuple contains the subsequence tuple\n",
        "contains_subseq = contains_subsequence(main_tuple, sub_tuple)\n",
        "\n",
        "# Print the result\n",
        "print(\"Main tuple contains subsequence tuple:\", contains_subseq)"
      ],
      "metadata": {
        "colab": {
          "base_uri": "https://localhost:8080/"
        },
        "id": "Qn_qJwAQ-dVn",
        "outputId": "d184da60-e1e0-4ad6-b86f-357f41d486f4"
      },
      "execution_count": 5,
      "outputs": [
        {
          "output_type": "stream",
          "name": "stdout",
          "text": [
            "Main tuple contains subsequence tuple: True\n"
          ]
        }
      ]
    },
    {
      "cell_type": "markdown",
      "source": [
        "50. Create a tuple of alternating 1s and 0s of length `n`."
      ],
      "metadata": {
        "id": "66mgP2T3G7L1"
      }
    },
    {
      "cell_type": "code",
      "source": [
        "# Define the value of n\n",
        "n = 10\n",
        "\n",
        "# Create a tuple of alternating 1s and 0s using a list comprehension\n",
        "alternating_tuple = tuple(i % 2 for i in range(n))\n",
        "\n",
        "# Print the tuple of alternating 1s and 0s\n",
        "print(\"Tuple of alternating 1s and 0s:\", alternating_tuple)"
      ],
      "metadata": {
        "colab": {
          "base_uri": "https://localhost:8080/"
        },
        "id": "vNPGgXjv-dY2",
        "outputId": "774aff66-6a0b-48ed-dd74-149d0b7999a9"
      },
      "execution_count": 6,
      "outputs": [
        {
          "output_type": "stream",
          "name": "stdout",
          "text": [
            "Tuple of alternating 1s and 0s: (0, 1, 0, 1, 0, 1, 0, 1, 0, 1)\n"
          ]
        }
      ]
    },
    {
      "cell_type": "markdown",
      "source": [
        "#Set Based Practice Problem :"
      ],
      "metadata": {
        "id": "MolIfSg3qW2X"
      }
    },
    {
      "cell_type": "markdown",
      "source": [
        "1. Create a set with integers from 1 to 5.\n"
      ],
      "metadata": {
        "id": "bPdG3u6jqcWT"
      }
    },
    {
      "cell_type": "code",
      "source": [
        "# Creating a set with integers\n",
        "integer_set = set([1, 2, 3, 4, 5])\n",
        "\n",
        "# Print the set\n",
        "print(integer_set)\n"
      ],
      "metadata": {
        "colab": {
          "base_uri": "https://localhost:8080/"
        },
        "id": "Y6x-9gShqdP4",
        "outputId": "8ce30688-f673-46b0-bd36-ca79b69816cf"
      },
      "execution_count": null,
      "outputs": [
        {
          "output_type": "stream",
          "name": "stdout",
          "text": [
            "{1, 2, 3, 4, 5}\n"
          ]
        }
      ]
    },
    {
      "cell_type": "markdown",
      "source": [
        "2. Add an element to a set."
      ],
      "metadata": {
        "id": "UpjKjUjtq2tR"
      }
    },
    {
      "cell_type": "code",
      "source": [
        "s={1,2,3,4,5,6}\n",
        "s.add(9)\n",
        "print(s)"
      ],
      "metadata": {
        "colab": {
          "base_uri": "https://localhost:8080/"
        },
        "id": "nM-Qvfo_q3o-",
        "outputId": "23a6cfc5-4041-4c2a-c078-a4eb9c2b9fd1"
      },
      "execution_count": null,
      "outputs": [
        {
          "output_type": "stream",
          "name": "stdout",
          "text": [
            "{1, 2, 3, 4, 5, 6, 9}\n"
          ]
        }
      ]
    },
    {
      "cell_type": "markdown",
      "source": [
        "3. Remove an element from a set."
      ],
      "metadata": {
        "id": "08xzrVRCrWSy"
      }
    },
    {
      "cell_type": "code",
      "source": [
        "s1={9,8,7,4,5,6,1,2,3}\n",
        "s1.remove(1)\n",
        "print(s1)"
      ],
      "metadata": {
        "colab": {
          "base_uri": "https://localhost:8080/"
        },
        "id": "YfC19xKcrXGT",
        "outputId": "40dda306-e536-4df5-d5b0-a6dbfe8a7da3"
      },
      "execution_count": null,
      "outputs": [
        {
          "output_type": "stream",
          "name": "stdout",
          "text": [
            "{2, 3, 4, 5, 6, 7, 8, 9}\n"
          ]
        }
      ]
    },
    {
      "cell_type": "markdown",
      "source": [
        "4. Check if an element exists in a set."
      ],
      "metadata": {
        "id": "fXHkZsz2r5OB"
      }
    },
    {
      "cell_type": "code",
      "source": [
        "s2={48,56,12,48,45,4}\n",
        "s3=input(\"enter the number to check\")\n",
        "if s3 in s2:\n",
        "  print(s3,\"exists in set\")\n",
        "else:\n",
        "  print(s3,\"does not exists in set\")"
      ],
      "metadata": {
        "colab": {
          "base_uri": "https://localhost:8080/"
        },
        "id": "-_QQLegDr7vr",
        "outputId": "58e43a5c-38ef-45fa-ea59-b16301a1e40e"
      },
      "execution_count": null,
      "outputs": [
        {
          "output_type": "stream",
          "name": "stdout",
          "text": [
            "enter the number to check45\n",
            "45 does not exists in set\n"
          ]
        }
      ]
    },
    {
      "cell_type": "markdown",
      "source": [
        "5. Find the length of a set without using the `len()` function."
      ],
      "metadata": {
        "id": "N-wEnilSs-td"
      }
    },
    {
      "cell_type": "code",
      "source": [
        "s={\"anshi\",15.26,152,True,False}\n",
        "length=0\n",
        "for i in s:\n",
        "  length+=1\n",
        "print(\"the length of the set is\",length)\n"
      ],
      "metadata": {
        "colab": {
          "base_uri": "https://localhost:8080/"
        },
        "id": "aEK7yaEntEXG",
        "outputId": "ae986b3c-d254-4a01-b7a2-5e2cc2e3f78b"
      },
      "execution_count": null,
      "outputs": [
        {
          "output_type": "stream",
          "name": "stdout",
          "text": [
            "the length of the set is 5\n"
          ]
        }
      ]
    },
    {
      "cell_type": "markdown",
      "source": [
        "6. Clear all elements from a set"
      ],
      "metadata": {
        "id": "PHCfbvD-xFnU"
      }
    },
    {
      "cell_type": "code",
      "source": [
        "s={\"a\",\"b\",\"c\",\"d\",\"e\"}\n",
        "s.clear()\n",
        "print(\"set after removing all elements is\",s)"
      ],
      "metadata": {
        "colab": {
          "base_uri": "https://localhost:8080/"
        },
        "id": "Wy2dAuCIxGaJ",
        "outputId": "7b7cad42-4240-417d-d0c5-ce97193beb03"
      },
      "execution_count": null,
      "outputs": [
        {
          "output_type": "stream",
          "name": "stdout",
          "text": [
            "set after removing all elements is set()\n"
          ]
        }
      ]
    },
    {
      "cell_type": "markdown",
      "source": [
        "7. Create a set of even numbers from 1 to 10"
      ],
      "metadata": {
        "id": "1kIO5y_mx0wN"
      }
    },
    {
      "cell_type": "code",
      "source": [
        "s=set()\n",
        "for i in range(1,11):\n",
        "  if i%2==0:\n",
        "    s.add(i)\n",
        "print(s)"
      ],
      "metadata": {
        "colab": {
          "base_uri": "https://localhost:8080/"
        },
        "id": "xBZQLL3wx1to",
        "outputId": "0795e214-9141-44a5-fb96-9d8aaa321c32"
      },
      "execution_count": null,
      "outputs": [
        {
          "output_type": "stream",
          "name": "stdout",
          "text": [
            "{2, 4, 6, 8, 10}\n"
          ]
        }
      ]
    },
    {
      "cell_type": "markdown",
      "source": [
        "8. Create a set of odd numbers from 1 to 10."
      ],
      "metadata": {
        "id": "ChfTboA70DMZ"
      }
    },
    {
      "cell_type": "code",
      "source": [
        "s=set()\n",
        "for i in range(1,11):\n",
        "  if i%2!=0:\n",
        "    s.add(i)\n",
        "print(s)"
      ],
      "metadata": {
        "colab": {
          "base_uri": "https://localhost:8080/"
        },
        "id": "NKWt0R370D7A",
        "outputId": "445aed6b-16af-4d89-92be-6d7cc27e99ce"
      },
      "execution_count": null,
      "outputs": [
        {
          "output_type": "stream",
          "name": "stdout",
          "text": [
            "{1, 3, 5, 7, 9}\n"
          ]
        }
      ]
    },
    {
      "cell_type": "markdown",
      "source": [
        "9. Find the union of two sets."
      ],
      "metadata": {
        "id": "PwEPzwco0WCj"
      }
    },
    {
      "cell_type": "code",
      "source": [
        "s1={1,2,3,4,5}\n",
        "s2={6,7,8,9,10}\n",
        "union=s1.union(s2)\n",
        "print(union)"
      ],
      "metadata": {
        "colab": {
          "base_uri": "https://localhost:8080/"
        },
        "id": "xi7vvVIx0Wy8",
        "outputId": "a7910293-9a60-484b-bda6-d43553cbde24"
      },
      "execution_count": null,
      "outputs": [
        {
          "output_type": "stream",
          "name": "stdout",
          "text": [
            "{1, 2, 3, 4, 5, 6, 7, 8, 9, 10}\n"
          ]
        }
      ]
    },
    {
      "cell_type": "markdown",
      "source": [
        "10. Find the intersection of two sets."
      ],
      "metadata": {
        "id": "d8DMVY851V_m"
      }
    },
    {
      "cell_type": "code",
      "source": [
        "s1={1,2,3,4,5,6,7,8}\n",
        "s2={6,7,8,9,10}\n",
        "intersection=s1.intersection(s2)\n",
        "print(intersection)"
      ],
      "metadata": {
        "colab": {
          "base_uri": "https://localhost:8080/"
        },
        "id": "zOfkd64c1Wyq",
        "outputId": "3119e5bc-168c-40ee-cc1c-0ef743cbe53c"
      },
      "execution_count": null,
      "outputs": [
        {
          "output_type": "stream",
          "name": "stdout",
          "text": [
            "{8, 6, 7}\n"
          ]
        }
      ]
    },
    {
      "cell_type": "markdown",
      "source": [
        "11. Find the difference between two sets.\n"
      ],
      "metadata": {
        "id": "kwxQxr-E15cN"
      }
    },
    {
      "cell_type": "code",
      "source": [
        "s={1,2,3,4,5,6}\n",
        "s1={1,2,3,6,7}\n",
        "diffrence=s.difference(s1)\n",
        "print(diffrence)"
      ],
      "metadata": {
        "colab": {
          "base_uri": "https://localhost:8080/"
        },
        "id": "QXexy8nQ16Rc",
        "outputId": "f7b25ac7-4bd9-4501-c499-331a8c632715"
      },
      "execution_count": null,
      "outputs": [
        {
          "output_type": "stream",
          "name": "stdout",
          "text": [
            "{4, 5}\n"
          ]
        }
      ]
    },
    {
      "cell_type": "markdown",
      "source": [
        "12. Check if a set is a subset of another set.\n"
      ],
      "metadata": {
        "id": "ONw_pYti2wx4"
      }
    },
    {
      "cell_type": "code",
      "source": [
        "s={1,5,3,6,9,7,45,1,2}\n",
        "s1={1,2,6,45}\n",
        "is_subset=s1.issubset(s)\n",
        "print(is_subset)"
      ],
      "metadata": {
        "colab": {
          "base_uri": "https://localhost:8080/"
        },
        "id": "WqEgUED82xqg",
        "outputId": "fa65f689-d6c6-451a-936f-d55ddf1d11b4"
      },
      "execution_count": null,
      "outputs": [
        {
          "output_type": "stream",
          "name": "stdout",
          "text": [
            "True\n"
          ]
        }
      ]
    },
    {
      "cell_type": "markdown",
      "source": [
        "13. Check if a set is a superset of another set."
      ],
      "metadata": {
        "id": "d8a_mOF54IJk"
      }
    },
    {
      "cell_type": "code",
      "source": [
        "s={1,5,3,6,9,7,45,1,2}\n",
        "s1={1,2,6,45}\n",
        "is_superset=s.issuperset(s1)\n",
        "print(is_superset)"
      ],
      "metadata": {
        "colab": {
          "base_uri": "https://localhost:8080/"
        },
        "id": "FXugJCZ74I-J",
        "outputId": "fea6583f-dc8e-4072-a90b-aa8a130ed111"
      },
      "execution_count": null,
      "outputs": [
        {
          "output_type": "stream",
          "name": "stdout",
          "text": [
            "True\n"
          ]
        }
      ]
    },
    {
      "cell_type": "markdown",
      "source": [
        "14. Create a set from a list.\n"
      ],
      "metadata": {
        "id": "A2V49CYf5DqG"
      }
    },
    {
      "cell_type": "code",
      "source": [
        "a=[1,2,3,4,5]\n",
        "b=set(a)\n",
        "print(b)"
      ],
      "metadata": {
        "colab": {
          "base_uri": "https://localhost:8080/"
        },
        "id": "2a8G-9L25Eg-",
        "outputId": "20692d8c-fa05-488d-aebc-b921f22797a0"
      },
      "execution_count": null,
      "outputs": [
        {
          "output_type": "stream",
          "name": "stdout",
          "text": [
            "{1, 2, 3, 4, 5}\n"
          ]
        }
      ]
    },
    {
      "cell_type": "markdown",
      "source": [
        "15. Convert a set to a list."
      ],
      "metadata": {
        "id": "HI8psxuz7MLR"
      }
    },
    {
      "cell_type": "code",
      "source": [
        "a={1,2,3,4,5,6}\n",
        "b=list(a)\n",
        "print(b)"
      ],
      "metadata": {
        "colab": {
          "base_uri": "https://localhost:8080/"
        },
        "id": "d_zxHao57M_z",
        "outputId": "840c056a-94d8-4c38-ee94-6fa621eb05c9"
      },
      "execution_count": 7,
      "outputs": [
        {
          "output_type": "stream",
          "name": "stdout",
          "text": [
            "[1, 2, 3, 4, 5, 6]\n"
          ]
        }
      ]
    },
    {
      "cell_type": "markdown",
      "source": [
        "16. Remove a random element from a set."
      ],
      "metadata": {
        "id": "eQ0ktE5W7_10"
      }
    },
    {
      "cell_type": "code",
      "source": [
        "import random\n",
        "my_set = {1, 2, 3, 4, 5}\n",
        "\n",
        "# Display the original set\n",
        "print(\"Original set:\", my_set)\n",
        "\n",
        "# Choose a random element from the set using the random.choice() function\n",
        "random_element = random.choice(list(my_set))\n",
        "\n",
        "# Remove the chosen random element from the set using the remove() method\n",
        "my_set.remove(random_element)\n",
        "\n",
        "# Display the updated set after removing the random element\n",
        "print(\"Updated set after removing\", random_element, \":\", my_set)"
      ],
      "metadata": {
        "id": "aveKTgv08Anm",
        "colab": {
          "base_uri": "https://localhost:8080/"
        },
        "outputId": "aa1106f8-7240-4bb8-f4a4-1f5222202de9"
      },
      "execution_count": 8,
      "outputs": [
        {
          "output_type": "stream",
          "name": "stdout",
          "text": [
            "Original set: {1, 2, 3, 4, 5}\n",
            "Updated set after removing 2 : {1, 3, 4, 5}\n"
          ]
        }
      ]
    },
    {
      "cell_type": "markdown",
      "source": [
        "17. Pop an element from a set.\n"
      ],
      "metadata": {
        "id": "MTVCpQpl8BhS"
      }
    },
    {
      "cell_type": "code",
      "source": [
        "s={8,9,6,5,7,1}\n",
        "s.pop()\n",
        "print(s)"
      ],
      "metadata": {
        "id": "OEGl0JxT8GQh",
        "colab": {
          "base_uri": "https://localhost:8080/"
        },
        "outputId": "35fb79ea-8b39-45b3-cddb-21fef3cd6ba8"
      },
      "execution_count": null,
      "outputs": [
        {
          "output_type": "stream",
          "name": "stdout",
          "text": [
            "{5, 6, 7, 8, 9}\n"
          ]
        }
      ]
    },
    {
      "cell_type": "markdown",
      "source": [
        "18. Check if two sets have no elements in common.\n"
      ],
      "metadata": {
        "id": "9c_uTV9L87zv"
      }
    },
    {
      "cell_type": "code",
      "source": [
        "s={\"a\",\"b\",\"c\",\"d\"}\n",
        "s1={\"b\",\"c\"}\n",
        "if s.isdisjoint(s1):\n",
        "  print(\"no elements in common\")\n",
        "else:\n",
        "  print(\"sets have common elements\")"
      ],
      "metadata": {
        "id": "0niFy0LS88nS",
        "colab": {
          "base_uri": "https://localhost:8080/"
        },
        "outputId": "f0b4c41d-587c-4c2e-c79e-e41ee7d5776e"
      },
      "execution_count": null,
      "outputs": [
        {
          "output_type": "stream",
          "name": "stdout",
          "text": [
            "sets have common elements\n"
          ]
        }
      ]
    },
    {
      "cell_type": "markdown",
      "source": [
        "19. Find the symmetric difference between two sets."
      ],
      "metadata": {
        "id": "SJdMZ9UoAVjY"
      }
    },
    {
      "cell_type": "code",
      "source": [
        "s1={7,8,9,5,6}\n",
        "s2={5,6,4}\n",
        "symmetric_diffrence=s1.symmetric_difference(s2)\n",
        "print(\"Symmetric difference between set1 and set2:\", symmetric_diffrence)"
      ],
      "metadata": {
        "colab": {
          "base_uri": "https://localhost:8080/"
        },
        "id": "YmGtWPjYAWUP",
        "outputId": "d3eb05c1-6f5d-40ac-d1eb-9238eb189406"
      },
      "execution_count": null,
      "outputs": [
        {
          "output_type": "stream",
          "name": "stdout",
          "text": [
            "Symmetric difference between set1 and set2: {4, 7, 8, 9}\n"
          ]
        }
      ]
    },
    {
      "cell_type": "markdown",
      "source": [
        "20. Update a set with elements from another set."
      ],
      "metadata": {
        "id": "tn9k38UnCZnO"
      }
    },
    {
      "cell_type": "code",
      "source": [
        "s={True,15.36,15}\n",
        "s1={False,26.36}\n",
        "updated_set=s.update(s1)\n",
        "print(s)"
      ],
      "metadata": {
        "colab": {
          "base_uri": "https://localhost:8080/"
        },
        "id": "dpIYtZaMCcXf",
        "outputId": "9458b5f4-71c7-4ca0-9aec-b67eecebe1fc"
      },
      "execution_count": null,
      "outputs": [
        {
          "output_type": "stream",
          "name": "stdout",
          "text": [
            "{False, True, 26.36, 15, 15.36}\n"
          ]
        }
      ]
    },
    {
      "cell_type": "markdown",
      "source": [
        "21. Create a set of the first 5 prime numbers."
      ],
      "metadata": {
        "id": "DCGF7i9REiRa"
      }
    },
    {
      "cell_type": "code",
      "source": [
        "# Create a set of the first 5 prime numbers\n",
        "prime_numbers = {2, 3, 5, 7, 11}\n",
        "\n",
        "print(\"Set of the first 5 prime numbers:\", prime_numbers)\n"
      ],
      "metadata": {
        "colab": {
          "base_uri": "https://localhost:8080/"
        },
        "id": "2yoc6GmsEjEG",
        "outputId": "09d720bf-0b59-4839-8194-48b49b2a3f98"
      },
      "execution_count": null,
      "outputs": [
        {
          "output_type": "stream",
          "name": "stdout",
          "text": [
            "Set of the first 5 prime numbers: {2, 3, 5, 7, 11}\n"
          ]
        }
      ]
    },
    {
      "cell_type": "markdown",
      "source": [
        "22. Check if two sets are identical."
      ],
      "metadata": {
        "id": "s9K6RDiHEvK6"
      }
    },
    {
      "cell_type": "code",
      "source": [
        "s={1,2,3,4,5,6}\n",
        "s1={1,2,3,4,5,6}\n",
        "if s==s1:\n",
        "  print(\"sets are identical\")\n",
        "else:\n",
        "  print(\"sets are not identical\")"
      ],
      "metadata": {
        "colab": {
          "base_uri": "https://localhost:8080/"
        },
        "id": "Sv6MsjBSEv7f",
        "outputId": "0897f75a-0dc4-43d1-9133-3812c5a28707"
      },
      "execution_count": null,
      "outputs": [
        {
          "output_type": "stream",
          "name": "stdout",
          "text": [
            "sets are identical\n"
          ]
        }
      ]
    },
    {
      "cell_type": "markdown",
      "source": [
        "23. Create a frozen set."
      ],
      "metadata": {
        "id": "jwz4JqY0Fn1R"
      }
    },
    {
      "cell_type": "code",
      "source": [
        "s=[1,2,3,4,5,6,7,8,9]\n",
        "frozen_set=frozenset(s)\n",
        "print(\"frozen set is\",frozen_set)"
      ],
      "metadata": {
        "id": "wwbkwMF1FocV",
        "colab": {
          "base_uri": "https://localhost:8080/"
        },
        "outputId": "f9154c21-d7c2-4285-b98a-460a60f3ad3a"
      },
      "execution_count": 9,
      "outputs": [
        {
          "output_type": "stream",
          "name": "stdout",
          "text": [
            "frozen set is frozenset({1, 2, 3, 4, 5, 6, 7, 8, 9})\n"
          ]
        }
      ]
    },
    {
      "cell_type": "markdown",
      "source": [
        "24. Check if a set is disjoint with another set."
      ],
      "metadata": {
        "id": "E5zrIEZXFrsJ"
      }
    },
    {
      "cell_type": "code",
      "source": [
        "s={10,11,12,13,14,15}\n",
        "s1={16,17,18,19}\n",
        "if s.isdisjoint(s1):\n",
        "  print(\"the sets are disjoint\")\n",
        "else:\n",
        "  print(\"the sets are not disjoint\")"
      ],
      "metadata": {
        "colab": {
          "base_uri": "https://localhost:8080/"
        },
        "id": "KINkE8U9Fsuu",
        "outputId": "9a986dfe-e476-44a7-c375-68e423e28658"
      },
      "execution_count": null,
      "outputs": [
        {
          "output_type": "stream",
          "name": "stdout",
          "text": [
            "the sets are disjoint\n"
          ]
        }
      ]
    },
    {
      "cell_type": "markdown",
      "source": [
        "25. Create a set of squares of numbers from 1 to 5."
      ],
      "metadata": {
        "id": "4OtZ8EKaGyM8"
      }
    },
    {
      "cell_type": "code",
      "source": [
        "s=set()\n",
        "for i in range(1,6):\n",
        "  s.add(i**2)\n",
        "print(s)"
      ],
      "metadata": {
        "colab": {
          "base_uri": "https://localhost:8080/"
        },
        "id": "-bV-wZFuGzE2",
        "outputId": "2287ee92-d56b-461d-f03d-557a3e09d340"
      },
      "execution_count": null,
      "outputs": [
        {
          "output_type": "stream",
          "name": "stdout",
          "text": [
            "{1, 4, 9, 16, 25}\n"
          ]
        }
      ]
    },
    {
      "cell_type": "markdown",
      "source": [
        "26. Filter out all even numbers from a set.\n"
      ],
      "metadata": {
        "id": "T41ePzVSHNW2"
      }
    },
    {
      "cell_type": "code",
      "source": [
        "s={15,26,4,836,154,259,654,125,1456,136}\n",
        "s1=set()\n",
        "for i in s:\n",
        "  if i%2==0:\n",
        "    s1.add(i)\n",
        "print(s1)"
      ],
      "metadata": {
        "colab": {
          "base_uri": "https://localhost:8080/"
        },
        "id": "h4oMwb5rHOG9",
        "outputId": "f2406a08-0eee-4940-dbd1-1e3bd302ed58"
      },
      "execution_count": null,
      "outputs": [
        {
          "output_type": "stream",
          "name": "stdout",
          "text": [
            "{4, 836, 154, 136, 654, 1456, 26}\n"
          ]
        }
      ]
    },
    {
      "cell_type": "markdown",
      "source": [
        "27. Multiply all elements in a set by 2."
      ],
      "metadata": {
        "id": "9Rn12IFaHvKI"
      }
    },
    {
      "cell_type": "code",
      "source": [
        "s={15,65,48,26,47,69,25}\n",
        "s1=set()\n",
        "for i in s:\n",
        "  s1.add(i*2)\n",
        "print(s1)\n"
      ],
      "metadata": {
        "colab": {
          "base_uri": "https://localhost:8080/"
        },
        "id": "45UIy8F-Hv2F",
        "outputId": "0ddc5730-880f-4b7d-e54e-a00ddcdc526f"
      },
      "execution_count": null,
      "outputs": [
        {
          "output_type": "stream",
          "name": "stdout",
          "text": [
            "{96, 130, 138, 50, 52, 30, 94}\n"
          ]
        }
      ]
    },
    {
      "cell_type": "markdown",
      "source": [
        "28. Create a set of random numbers."
      ],
      "metadata": {
        "id": "6PBEbc8dIiCT"
      }
    },
    {
      "cell_type": "code",
      "source": [
        "import random\n",
        "n=5\n",
        "randomnumber_set=set()\n",
        "for i in range(n):\n",
        "  random_number=random.randint(1,100)\n",
        "  randomnumber_set.add(random_number)\n",
        "print(\"the random number set is\",randomnumber_set)"
      ],
      "metadata": {
        "id": "XjhGuMX3Iiw4",
        "colab": {
          "base_uri": "https://localhost:8080/"
        },
        "outputId": "79b7dd7f-13b6-434b-cbfd-aef89edd58be"
      },
      "execution_count": 10,
      "outputs": [
        {
          "output_type": "stream",
          "name": "stdout",
          "text": [
            "the random number set is {3, 35, 78, 85, 86}\n"
          ]
        }
      ]
    },
    {
      "cell_type": "markdown",
      "source": [
        "29. Check if a set is empty."
      ],
      "metadata": {
        "id": "eba463OWIjrq"
      }
    },
    {
      "cell_type": "code",
      "source": [
        "s={50,60,70,80}\n",
        "if len(s)==0:\n",
        "  print(\"set is empty\")\n",
        "else:\n",
        "  print(\"set is not empty\")"
      ],
      "metadata": {
        "colab": {
          "base_uri": "https://localhost:8080/"
        },
        "id": "dEdLdn4rImHR",
        "outputId": "19ac8eb2-ce54-4ee9-a30d-6e9b64907932"
      },
      "execution_count": null,
      "outputs": [
        {
          "output_type": "stream",
          "name": "stdout",
          "text": [
            "set is not empty\n"
          ]
        }
      ]
    },
    {
      "cell_type": "markdown",
      "source": [
        "30. Create a nested set (hint: use frozenset)."
      ],
      "metadata": {
        "id": "PandWvi2JPqH"
      }
    },
    {
      "cell_type": "code",
      "source": [
        "# Step 1: Create the inner sets\n",
        "set1 = {1, 2, 3, 4, 5}\n",
        "set2 = {6, 7, 8, 9, 10}\n",
        "\n",
        "# Step 2: Create frozensets from the inner sets\n",
        "frozen_set1 = frozenset(set1)\n",
        "frozen_set2 = frozenset(set2)\n",
        "\n",
        "# Step 3: Create the nested set using the frozensets\n",
        "nested_set = {frozen_set1, frozen_set2}\n",
        "\n",
        "# Print the nested set\n",
        "print(\"Nested Set:\", nested_set)"
      ],
      "metadata": {
        "id": "x_dFrGxDJQgT"
      },
      "execution_count": null,
      "outputs": []
    },
    {
      "cell_type": "markdown",
      "source": [
        "31. Remove an element from a set using the discard method"
      ],
      "metadata": {
        "id": "QccGqJYNEz-C"
      }
    },
    {
      "cell_type": "code",
      "source": [
        "s={1,2,3,4,5,6,7}\n",
        "s.discard(5)\n",
        "print(s)"
      ],
      "metadata": {
        "id": "jpSQ9eaOE0io",
        "colab": {
          "base_uri": "https://localhost:8080/"
        },
        "outputId": "a4441ab7-5c98-4544-de32-0519c2a06e61"
      },
      "execution_count": null,
      "outputs": [
        {
          "output_type": "stream",
          "name": "stdout",
          "text": [
            "{1, 2, 3, 4, 6, 7}\n"
          ]
        }
      ]
    },
    {
      "cell_type": "markdown",
      "source": [
        "32. Compare two sets.\n"
      ],
      "metadata": {
        "id": "UKfUrGSDF-w6"
      }
    },
    {
      "cell_type": "code",
      "source": [
        "s={15,16,17,18}\n",
        "s1={19,20,21,22}\n",
        "if s==s1:\n",
        "  print(\"sets are equal\")\n",
        "else:\n",
        "  print(\"sets are not equal\")"
      ],
      "metadata": {
        "colab": {
          "base_uri": "https://localhost:8080/"
        },
        "id": "fLO38CIVF_cE",
        "outputId": "7154bfc4-bc40-4a12-b968-48be97a54dc7"
      },
      "execution_count": null,
      "outputs": [
        {
          "output_type": "stream",
          "name": "stdout",
          "text": [
            "sets are not equal\n"
          ]
        }
      ]
    },
    {
      "cell_type": "markdown",
      "source": [
        "33. Create a set from a string"
      ],
      "metadata": {
        "id": "1mzJino8HqIx"
      }
    },
    {
      "cell_type": "code",
      "source": [
        "a=\"anshi\"\n",
        "b=set(a)\n",
        "print(b)"
      ],
      "metadata": {
        "colab": {
          "base_uri": "https://localhost:8080/"
        },
        "id": "ON4a5t5gHqxT",
        "outputId": "a21fac86-dd37-4e8a-c120-e236a4d1938c"
      },
      "execution_count": null,
      "outputs": [
        {
          "output_type": "stream",
          "name": "stdout",
          "text": [
            "{'a', 'i', 'h', 'n', 's'}\n"
          ]
        }
      ]
    },
    {
      "cell_type": "markdown",
      "source": [
        "34. Convert a set of strings to a set of integers."
      ],
      "metadata": {
        "id": "dcl0XRC7IWTV"
      }
    },
    {
      "cell_type": "code",
      "source": [
        "a={\"1\", \"2\", \"3\", \"4\", \"5\"}\n",
        "b=set()\n",
        "for i in a:\n",
        "  b.add(int(i))\n",
        "print(b)"
      ],
      "metadata": {
        "id": "lQel-5pOIXGO",
        "colab": {
          "base_uri": "https://localhost:8080/"
        },
        "outputId": "9c010601-0adb-4b86-bd9a-3433d0cf709b"
      },
      "execution_count": null,
      "outputs": [
        {
          "output_type": "stream",
          "name": "stdout",
          "text": [
            "{1, 2, 3, 4, 5}\n"
          ]
        }
      ]
    },
    {
      "cell_type": "markdown",
      "source": [
        "35. Convert a set of integers to a set of strings.\n"
      ],
      "metadata": {
        "id": "oOvivlRHKe19"
      }
    },
    {
      "cell_type": "code",
      "source": [
        "a={1,2,3,4,5,6}\n",
        "b=set()\n",
        "for i in a:\n",
        "  b.add(str(i))\n",
        "print(b)"
      ],
      "metadata": {
        "colab": {
          "base_uri": "https://localhost:8080/"
        },
        "id": "6TTVY36rKjIh",
        "outputId": "7c8ada30-6e79-41ba-a799-ec0f42a8e21a"
      },
      "execution_count": null,
      "outputs": [
        {
          "output_type": "stream",
          "name": "stdout",
          "text": [
            "{'2', '3', '1', '4', '5', '6'}\n"
          ]
        }
      ]
    },
    {
      "cell_type": "markdown",
      "source": [
        "36. Create a set from a tuple."
      ],
      "metadata": {
        "id": "i7zscEJNKfE8"
      }
    },
    {
      "cell_type": "code",
      "source": [
        "t=(1,2,3,4,5,6)\n",
        "s=set(t)\n",
        "print(s)"
      ],
      "metadata": {
        "colab": {
          "base_uri": "https://localhost:8080/"
        },
        "id": "6ybc0wKHLDhQ",
        "outputId": "dbee7f1d-655f-4935-e34b-8c1488bb5b39"
      },
      "execution_count": null,
      "outputs": [
        {
          "output_type": "stream",
          "name": "stdout",
          "text": [
            "{1, 2, 3, 4, 5, 6}\n"
          ]
        }
      ]
    },
    {
      "cell_type": "markdown",
      "source": [
        "37. Convert a set to a tuple.\n"
      ],
      "metadata": {
        "id": "q_lwv5IqL1mi"
      }
    },
    {
      "cell_type": "code",
      "source": [
        "s={5,6,7,8,9}\n",
        "t=tuple(s)\n",
        "print(t)"
      ],
      "metadata": {
        "colab": {
          "base_uri": "https://localhost:8080/"
        },
        "id": "MTh0OGVnL53e",
        "outputId": "3bada6c1-6f00-409c-bd72-2a760a6674ad"
      },
      "execution_count": null,
      "outputs": [
        {
          "output_type": "stream",
          "name": "stdout",
          "text": [
            "(5, 6, 7, 8, 9)\n"
          ]
        }
      ]
    },
    {
      "cell_type": "markdown",
      "source": [
        "38. Find the maximum value in a set"
      ],
      "metadata": {
        "id": "8I3bnpbEMaU8"
      }
    },
    {
      "cell_type": "code",
      "source": [
        "s={5,35,69,112,17,15,64,158}\n",
        "maximum=max(s)\n",
        "print(maximum)\n"
      ],
      "metadata": {
        "colab": {
          "base_uri": "https://localhost:8080/"
        },
        "id": "AnmsA7o7MbFd",
        "outputId": "08d4e1a3-0b3d-4592-eba6-e6f457f745cd"
      },
      "execution_count": null,
      "outputs": [
        {
          "output_type": "stream",
          "name": "stdout",
          "text": [
            "158\n"
          ]
        }
      ]
    },
    {
      "cell_type": "markdown",
      "source": [
        "39. Find the minimum value in a set.\n"
      ],
      "metadata": {
        "id": "CJKcHKQSOXkw"
      }
    },
    {
      "cell_type": "code",
      "source": [
        "s={5,35,69,112,17,15,64,158}\n",
        "minimum=min(s)\n",
        "print(minimum)\n"
      ],
      "metadata": {
        "colab": {
          "base_uri": "https://localhost:8080/"
        },
        "id": "LylyBmzDOYoG",
        "outputId": "49b317b1-f4ba-4d5c-9402-948566a65754"
      },
      "execution_count": null,
      "outputs": [
        {
          "output_type": "stream",
          "name": "stdout",
          "text": [
            "5\n"
          ]
        }
      ]
    },
    {
      "cell_type": "markdown",
      "source": [
        "40. Create a set from user input."
      ],
      "metadata": {
        "id": "2R8nD5zqOqZZ"
      }
    },
    {
      "cell_type": "code",
      "source": [
        "a=input(\"enter a input\").split()\n",
        "user_set=set(a)\n",
        "print(user_set)"
      ],
      "metadata": {
        "colab": {
          "base_uri": "https://localhost:8080/"
        },
        "id": "cPRwy7mbOrKR",
        "outputId": "b29bb298-9e35-43f4-9506-4a8d9793df9a"
      },
      "execution_count": null,
      "outputs": [
        {
          "output_type": "stream",
          "name": "stdout",
          "text": [
            "enter a input 1 2 3 4 5 6\n",
            "{'2', '3', '1', '4', '5', '6'}\n"
          ]
        }
      ]
    },
    {
      "cell_type": "markdown",
      "source": [
        "41. Check if the intersection of two sets is empty."
      ],
      "metadata": {
        "id": "5szlmE4BPWHV"
      }
    },
    {
      "cell_type": "code",
      "source": [
        "\n",
        "set1 = {1, 2, 3, 4}\n",
        "set2 = {3, 4, 5, 6}\n",
        "if set1.isdisjoint(set2):\n",
        "    print(\"The intersection of set1 and set2 is empty.\")\n",
        "else:\n",
        "    print(\"The intersection of set1 and set2 is not empty.\")\n"
      ],
      "metadata": {
        "colab": {
          "base_uri": "https://localhost:8080/"
        },
        "id": "Bg2Mi0v6PXQy",
        "outputId": "6b7b9989-f313-45c2-c816-bb9c7dc781c9"
      },
      "execution_count": null,
      "outputs": [
        {
          "output_type": "stream",
          "name": "stdout",
          "text": [
            "The intersection of set1 and set2 is not empty.\n"
          ]
        }
      ]
    },
    {
      "cell_type": "markdown",
      "source": [
        "42. Create a set of the first 5 Fibonacci numbers."
      ],
      "metadata": {
        "id": "gto1dc26PzrJ"
      }
    },
    {
      "cell_type": "code",
      "source": [
        "# Create a set to store the first 5 Fibonacci numbers\n",
        "fibonacci_set = set()\n",
        "\n",
        "# Initialize the first two Fibonacci numbers\n",
        "a, b = 0, 1\n",
        "\n",
        "# Loop to generate the first 5 Fibonacci numbers\n",
        "for _ in range(6):\n",
        "    # Add the current Fibonacci number to the set\n",
        "    fibonacci_set.add(a)\n",
        "\n",
        "    # Calculate the next Fibonacci number\n",
        "    a, b = b, a + b\n",
        "\n",
        "# Print the set of Fibonacci numbers\n",
        "print(\"Set of the first 5 Fibonacci numbers:\", fibonacci_set)"
      ],
      "metadata": {
        "colab": {
          "base_uri": "https://localhost:8080/"
        },
        "id": "laWfZ5qgP0eR",
        "outputId": "bb4c8564-c902-4457-97a4-1aa7f41c8bed"
      },
      "execution_count": 17,
      "outputs": [
        {
          "output_type": "stream",
          "name": "stdout",
          "text": [
            "Set of the first 5 Fibonacci numbers: {0, 1, 2, 3, 5}\n"
          ]
        }
      ]
    },
    {
      "cell_type": "markdown",
      "source": [
        "43. Remove duplicates from a list using sets"
      ],
      "metadata": {
        "id": "y7cK47FeDuiu"
      }
    },
    {
      "cell_type": "code",
      "source": [
        "# Step 1: Define a list with duplicates\n",
        "original_list = [2, 4, 6, 8, 4, 10, 6, 12, 14, 8]\n",
        "\n",
        "# Step 2: Convert the list to a set\n",
        "unique_set = set(original_list)\n",
        "# Now, 'unique_set' contains only unique elements from 'original_list'\n",
        "\n",
        "# Step 3: Convert the set back to a list\n",
        "unique_list = list(unique_set)\n",
        "# Now, 'unique_list' is a list containing only unique elements\n",
        "\n",
        "# Step 4: Print the original list and the list with duplicates removed\n",
        "print(\"Original List:\", original_list)\n",
        "print(\"List with Duplicates Removed:\", unique_list)"
      ],
      "metadata": {
        "colab": {
          "base_uri": "https://localhost:8080/"
        },
        "id": "gxRdtqOhEHRA",
        "outputId": "45115232-e4b4-4209-f0ee-158f13ff31b9"
      },
      "execution_count": 5,
      "outputs": [
        {
          "output_type": "stream",
          "name": "stdout",
          "text": [
            "Original List: [2, 4, 6, 8, 4, 10, 6, 12, 14, 8]\n",
            "List with Duplicates Removed: [2, 4, 6, 8, 10, 12, 14]\n"
          ]
        }
      ]
    },
    {
      "cell_type": "markdown",
      "source": [
        "44. Check if two sets have the same elements, regardless of their count."
      ],
      "metadata": {
        "id": "mmCUdAoPDun0"
      }
    },
    {
      "cell_type": "code",
      "source": [
        "def have_same_elements(set1, set2):\n",
        "    # Convert the sets to lists and sort them\n",
        "    sorted_list1 = sorted(list(set1))\n",
        "    sorted_list2 = sorted(list(set2))\n",
        "\n",
        "    # Compare the sorted lists to check if they are equal\n",
        "    return sorted_list1 == sorted_list2\n",
        "\n",
        "# Example sets\n",
        "set1 = {1, 2, 3, 2, 1}\n",
        "set2 = {3, 1, 2}\n",
        "\n",
        "# Check if the sets have the same elements\n",
        "result = have_same_elements(set1, set2)\n",
        "\n",
        "# Print the result\n",
        "if result:\n",
        "    print(\"The sets have the same elements.\")\n",
        "else:\n",
        "    print(\"The sets do not have the same elements.\")"
      ],
      "metadata": {
        "id": "3bUkfb-2Efag"
      },
      "execution_count": null,
      "outputs": []
    },
    {
      "cell_type": "markdown",
      "source": [
        "45. Create a set of the first `n` powers of 2.\n"
      ],
      "metadata": {
        "id": "Ik0jjEiFDuug"
      }
    },
    {
      "cell_type": "code",
      "source": [
        "def generate_powers_of_2(n):\n",
        "    # Initialize an empty set to store the powers of 2\n",
        "    powers_of_2 = set()\n",
        "\n",
        "    # Loop from 0 to n-1\n",
        "    for i in range(n):\n",
        "        # Calculate the current power of 2 using the exponentiation operator **\n",
        "        power = 2 ** i\n",
        "\n",
        "        # Add the current power of 2 to the set\n",
        "        powers_of_2.add(power)\n",
        "\n",
        "    # Return the set of powers of 2\n",
        "    return powers_of_2\n",
        "\n",
        "# Define the value of n\n",
        "n = 5\n",
        "\n",
        "# Call the function to generate the set of powers of 2\n",
        "powers_set = generate_powers_of_2(n)\n",
        "\n",
        "# Print the resulting set\n",
        "print(powers_set)"
      ],
      "metadata": {
        "id": "uB8OWRrcFVcI"
      },
      "execution_count": null,
      "outputs": []
    },
    {
      "cell_type": "markdown",
      "source": [
        "46. Find the common elements between a set and a list.\n"
      ],
      "metadata": {
        "id": "N2i93bAaDu01"
      }
    },
    {
      "cell_type": "code",
      "source": [
        "# Step 1: Define a set and a list\n",
        "my_set = {3, 7, 9, 12, 15}\n",
        "my_list = [7, 12, 5, 9]\n",
        "\n",
        "# Step 2: Convert the list to a set for efficient comparison\n",
        "list_to_set = set(my_list)\n",
        "\n",
        "# Step 3: Initialize an empty list to store common elements\n",
        "common_elements = []\n",
        "\n",
        "# Step 4: Iterate through the elements in the set\n",
        "for element in my_set:\n",
        "    # Step 5: Check if the element is present in the converted set (list_to_set)\n",
        "    if element in list_to_set:\n",
        "        # Step 6: If the element is present in both the set and the list, add it to the common_elements list\n",
        "        common_elements.append(element)\n",
        "\n",
        "# Step 7: Print the common elements\n",
        "print(\"Common elements:\", common_elements)"
      ],
      "metadata": {
        "colab": {
          "base_uri": "https://localhost:8080/"
        },
        "id": "VBMFASAfFik_",
        "outputId": "6a2752f4-e6ca-4278-cc01-102610fe382d"
      },
      "execution_count": 4,
      "outputs": [
        {
          "output_type": "stream",
          "name": "stdout",
          "text": [
            "Common elements: [7, 9, 12]\n"
          ]
        }
      ]
    },
    {
      "cell_type": "markdown",
      "source": [
        "47. Create a set of the first `n` triangular numbers"
      ],
      "metadata": {
        "id": "l6grTdCBDu_6"
      }
    },
    {
      "cell_type": "code",
      "source": [
        "def generate_triangular_numbers(n):\n",
        "    triangular_numbers = set()  # Create an empty set to store the triangular numbers\n",
        "    for i in range(1, n + 1):\n",
        "        triangular_number = i * (i + 1) // 2  # Calculate the ith triangular number using the formula\n",
        "        triangular_numbers.add(triangular_number)  # Add the calculated triangular number to the set\n",
        "    return triangular_numbers\n",
        "\n",
        "# Input the value of 'n'\n",
        "n = int(input(\"Enter the value of n: \"))\n",
        "\n",
        "# Call the function to generate the set of first 'n' triangular numbers\n",
        "triangular_set = generate_triangular_numbers(n)\n",
        "\n",
        "# Display the set of triangular numbers\n",
        "print(f\"The set of the first {n} triangular numbers is:\", triangular_set)"
      ],
      "metadata": {
        "id": "ODUkRPZfF2TK"
      },
      "execution_count": null,
      "outputs": []
    },
    {
      "cell_type": "markdown",
      "source": [
        "48. Check if a set contains another set as a subset.\n"
      ],
      "metadata": {
        "id": "IcWHsbW5DvIc"
      }
    },
    {
      "cell_type": "code",
      "source": [
        "# Define two sets\n",
        "set1 = {1, 2, 3, 4, 5}\n",
        "set2 = {3, 4}\n",
        "\n",
        "# Check if set2 is a subset of set1\n",
        "is_subset = set2.issubset(set1)\n",
        "\n",
        "# Print the result\n",
        "if is_subset:\n",
        "    print(\"set2 is a subset of set1\")\n",
        "else:\n",
        "    print(\"set2 is not a subset of set1\")"
      ],
      "metadata": {
        "colab": {
          "base_uri": "https://localhost:8080/"
        },
        "id": "VmJL3IG7F-aE",
        "outputId": "cb6a280d-ee49-4c31-e9e3-9f1e2289c070"
      },
      "execution_count": 1,
      "outputs": [
        {
          "output_type": "stream",
          "name": "stdout",
          "text": [
            "set2 is a subset of set1\n"
          ]
        }
      ]
    },
    {
      "cell_type": "markdown",
      "source": [
        "49. Create a set of alternating 1s and 0s of length `n`."
      ],
      "metadata": {
        "id": "gquCXd0EDvP2"
      }
    },
    {
      "cell_type": "code",
      "source": [
        "def create_alternating_set(n):\n",
        "    # Initialize an empty set to store the alternating sequence.\n",
        "    alternating_set = set()\n",
        "\n",
        "    # Loop to generate alternating 1s and 0s.\n",
        "    for i in range(n):\n",
        "        # Alternate between adding 1 and 0 to the set based on whether i is even or odd.\n",
        "        if i % 2 == 0:\n",
        "            alternating_set.add(1)  # Add 1 if i is even.\n",
        "        else:\n",
        "            alternating_set.add(0)  # Add 0 if i is odd.\n",
        "\n",
        "    return alternating_set\n",
        "\n",
        "# Define the desired length of the alternating set.\n",
        "length_n = 10\n",
        "\n",
        "# Call the function to create the alternating set of length 'length_n'.\n",
        "result = create_alternating_set(length_n)\n",
        "\n",
        "# Print the resulting set.\n",
        "print(result)"
      ],
      "metadata": {
        "colab": {
          "base_uri": "https://localhost:8080/"
        },
        "id": "7k1eiAQ3GIGf",
        "outputId": "012df433-37f7-44e6-f245-df0d913f2274"
      },
      "execution_count": 2,
      "outputs": [
        {
          "output_type": "stream",
          "name": "stdout",
          "text": [
            "{0, 1}\n"
          ]
        }
      ]
    },
    {
      "cell_type": "markdown",
      "source": [
        "50. Merge multiple sets into one.\n"
      ],
      "metadata": {
        "id": "hwusCyTvGN4g"
      }
    },
    {
      "cell_type": "code",
      "source": [
        "# Step 1: Create multiple sets\n",
        "set1 = {1, 2, 3}\n",
        "set2 = {3, 4, 5}\n",
        "set3 = {5, 6, 7}\n",
        "\n",
        "# Step 2: Use the union() method to merge sets\n",
        "merged_set = set1.union(set2, set3)\n",
        "\n",
        "# Alternatively, you can use the | operator\n",
        "# merged_set = set1 | set2 | set3\n",
        "\n",
        "# Step 3: Print the merged set\n",
        "print(\"Merged Set:\", merged_set)"
      ],
      "metadata": {
        "colab": {
          "base_uri": "https://localhost:8080/"
        },
        "id": "BNixMe20GQvm",
        "outputId": "ab71809d-037f-44fe-ba87-241c283e51bd"
      },
      "execution_count": 3,
      "outputs": [
        {
          "output_type": "stream",
          "name": "stdout",
          "text": [
            "Merged Set: {1, 2, 3, 4, 5, 6, 7}\n"
          ]
        }
      ]
    },
    {
      "cell_type": "code",
      "source": [],
      "metadata": {
        "id": "98aUfa8DGUtP"
      },
      "execution_count": null,
      "outputs": []
    }
  ]
}